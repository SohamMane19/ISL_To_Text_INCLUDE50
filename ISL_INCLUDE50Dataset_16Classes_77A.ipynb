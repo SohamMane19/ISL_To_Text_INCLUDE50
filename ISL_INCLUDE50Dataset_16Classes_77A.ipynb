{
  "cells": [
    {
      "cell_type": "markdown",
      "metadata": {
        "id": "K-pIKzwqu0lJ"
      },
      "source": [
        "## Importing Libraries"
      ]
    },
    {
      "cell_type": "code",
      "execution_count": null,
      "metadata": {
        "id": "N13aUr2BHLjX"
      },
      "outputs": [],
      "source": [
        "import shutil\n",
        "shutil.rmtree(\"/content/sample_data\")"
      ]
    },
    {
      "cell_type": "code",
      "execution_count": null,
      "metadata": {
        "colab": {
          "base_uri": "https://localhost:8080/"
        },
        "id": "TrJqM_BgHTmo",
        "outputId": "dd40558c-720e-4e10-bb79-4787cd197efc"
      },
      "outputs": [
        {
          "name": "stdout",
          "output_type": "stream",
          "text": [
            "Collecting mediapipe\n",
            "  Downloading mediapipe-0.10.18-cp310-cp310-manylinux_2_17_x86_64.manylinux2014_x86_64.whl.metadata (9.7 kB)\n",
            "Requirement already satisfied: absl-py in /usr/local/lib/python3.10/dist-packages (from mediapipe) (1.4.0)\n",
            "Requirement already satisfied: attrs>=19.1.0 in /usr/local/lib/python3.10/dist-packages (from mediapipe) (24.2.0)\n",
            "Requirement already satisfied: flatbuffers>=2.0 in /usr/local/lib/python3.10/dist-packages (from mediapipe) (24.3.25)\n",
            "Requirement already satisfied: jax in /usr/local/lib/python3.10/dist-packages (from mediapipe) (0.4.33)\n",
            "Requirement already satisfied: jaxlib in /usr/local/lib/python3.10/dist-packages (from mediapipe) (0.4.33)\n",
            "Requirement already satisfied: matplotlib in /usr/local/lib/python3.10/dist-packages (from mediapipe) (3.8.0)\n",
            "Requirement already satisfied: numpy<2 in /usr/local/lib/python3.10/dist-packages (from mediapipe) (1.26.4)\n",
            "Requirement already satisfied: opencv-contrib-python in /usr/local/lib/python3.10/dist-packages (from mediapipe) (4.10.0.84)\n",
            "Requirement already satisfied: protobuf<5,>=4.25.3 in /usr/local/lib/python3.10/dist-packages (from mediapipe) (4.25.5)\n",
            "Collecting sounddevice>=0.4.4 (from mediapipe)\n",
            "  Downloading sounddevice-0.5.1-py3-none-any.whl.metadata (1.4 kB)\n",
            "Requirement already satisfied: sentencepiece in /usr/local/lib/python3.10/dist-packages (from mediapipe) (0.2.0)\n",
            "Requirement already satisfied: CFFI>=1.0 in /usr/local/lib/python3.10/dist-packages (from sounddevice>=0.4.4->mediapipe) (1.17.1)\n",
            "Requirement already satisfied: ml-dtypes>=0.2.0 in /usr/local/lib/python3.10/dist-packages (from jax->mediapipe) (0.4.1)\n",
            "Requirement already satisfied: opt-einsum in /usr/local/lib/python3.10/dist-packages (from jax->mediapipe) (3.4.0)\n",
            "Requirement already satisfied: scipy>=1.10 in /usr/local/lib/python3.10/dist-packages (from jax->mediapipe) (1.13.1)\n",
            "Requirement already satisfied: contourpy>=1.0.1 in /usr/local/lib/python3.10/dist-packages (from matplotlib->mediapipe) (1.3.1)\n",
            "Requirement already satisfied: cycler>=0.10 in /usr/local/lib/python3.10/dist-packages (from matplotlib->mediapipe) (0.12.1)\n",
            "Requirement already satisfied: fonttools>=4.22.0 in /usr/local/lib/python3.10/dist-packages (from matplotlib->mediapipe) (4.54.1)\n",
            "Requirement already satisfied: kiwisolver>=1.0.1 in /usr/local/lib/python3.10/dist-packages (from matplotlib->mediapipe) (1.4.7)\n",
            "Requirement already satisfied: packaging>=20.0 in /usr/local/lib/python3.10/dist-packages (from matplotlib->mediapipe) (24.2)\n",
            "Requirement already satisfied: pillow>=6.2.0 in /usr/local/lib/python3.10/dist-packages (from matplotlib->mediapipe) (11.0.0)\n",
            "Requirement already satisfied: pyparsing>=2.3.1 in /usr/local/lib/python3.10/dist-packages (from matplotlib->mediapipe) (3.2.0)\n",
            "Requirement already satisfied: python-dateutil>=2.7 in /usr/local/lib/python3.10/dist-packages (from matplotlib->mediapipe) (2.8.2)\n",
            "Requirement already satisfied: pycparser in /usr/local/lib/python3.10/dist-packages (from CFFI>=1.0->sounddevice>=0.4.4->mediapipe) (2.22)\n",
            "Requirement already satisfied: six>=1.5 in /usr/local/lib/python3.10/dist-packages (from python-dateutil>=2.7->matplotlib->mediapipe) (1.16.0)\n",
            "Downloading mediapipe-0.10.18-cp310-cp310-manylinux_2_17_x86_64.manylinux2014_x86_64.whl (36.1 MB)\n",
            "\u001b[2K   \u001b[90m━━━━━━━━━━━━━━━━━━━━━━━━━━━━━━━━━━━━━━━━\u001b[0m \u001b[32m36.1/36.1 MB\u001b[0m \u001b[31m21.5 MB/s\u001b[0m eta \u001b[36m0:00:00\u001b[0m\n",
            "\u001b[?25hDownloading sounddevice-0.5.1-py3-none-any.whl (32 kB)\n",
            "Installing collected packages: sounddevice, mediapipe\n",
            "Successfully installed mediapipe-0.10.18 sounddevice-0.5.1\n",
            "Collecting sk-video\n",
            "  Downloading sk_video-1.1.10-py2.py3-none-any.whl.metadata (1.0 kB)\n",
            "Requirement already satisfied: numpy in /usr/local/lib/python3.10/dist-packages (from sk-video) (1.26.4)\n",
            "Requirement already satisfied: scipy in /usr/local/lib/python3.10/dist-packages (from sk-video) (1.13.1)\n",
            "Downloading sk_video-1.1.10-py2.py3-none-any.whl (2.3 MB)\n",
            "\u001b[2K   \u001b[90m━━━━━━━━━━━━━━━━━━━━━━━━━━━━━━━━━━━━━━━━\u001b[0m \u001b[32m2.3/2.3 MB\u001b[0m \u001b[31m22.6 MB/s\u001b[0m eta \u001b[36m0:00:00\u001b[0m\n",
            "\u001b[?25hInstalling collected packages: sk-video\n",
            "Successfully installed sk-video-1.1.10\n",
            "Collecting keras-video-generators\n",
            "  Downloading keras-video-generators-1.0.14.tar.gz (11 kB)\n",
            "  Preparing metadata (setup.py) ... \u001b[?25l\u001b[?25hdone\n",
            "Requirement already satisfied: keras>=2 in /usr/local/lib/python3.10/dist-packages (from keras-video-generators) (3.5.0)\n",
            "Requirement already satisfied: numpy in /usr/local/lib/python3.10/dist-packages (from keras-video-generators) (1.26.4)\n",
            "Requirement already satisfied: opencv-python in /usr/local/lib/python3.10/dist-packages (from keras-video-generators) (4.10.0.84)\n",
            "Requirement already satisfied: matplotlib in /usr/local/lib/python3.10/dist-packages (from keras-video-generators) (3.8.0)\n",
            "Requirement already satisfied: absl-py in /usr/local/lib/python3.10/dist-packages (from keras>=2->keras-video-generators) (1.4.0)\n",
            "Requirement already satisfied: rich in /usr/local/lib/python3.10/dist-packages (from keras>=2->keras-video-generators) (13.9.4)\n",
            "Requirement already satisfied: namex in /usr/local/lib/python3.10/dist-packages (from keras>=2->keras-video-generators) (0.0.8)\n",
            "Requirement already satisfied: h5py in /usr/local/lib/python3.10/dist-packages (from keras>=2->keras-video-generators) (3.12.1)\n",
            "Requirement already satisfied: optree in /usr/local/lib/python3.10/dist-packages (from keras>=2->keras-video-generators) (0.13.1)\n",
            "Requirement already satisfied: ml-dtypes in /usr/local/lib/python3.10/dist-packages (from keras>=2->keras-video-generators) (0.4.1)\n",
            "Requirement already satisfied: packaging in /usr/local/lib/python3.10/dist-packages (from keras>=2->keras-video-generators) (24.2)\n",
            "Requirement already satisfied: contourpy>=1.0.1 in /usr/local/lib/python3.10/dist-packages (from matplotlib->keras-video-generators) (1.3.1)\n",
            "Requirement already satisfied: cycler>=0.10 in /usr/local/lib/python3.10/dist-packages (from matplotlib->keras-video-generators) (0.12.1)\n",
            "Requirement already satisfied: fonttools>=4.22.0 in /usr/local/lib/python3.10/dist-packages (from matplotlib->keras-video-generators) (4.54.1)\n",
            "Requirement already satisfied: kiwisolver>=1.0.1 in /usr/local/lib/python3.10/dist-packages (from matplotlib->keras-video-generators) (1.4.7)\n",
            "Requirement already satisfied: pillow>=6.2.0 in /usr/local/lib/python3.10/dist-packages (from matplotlib->keras-video-generators) (11.0.0)\n",
            "Requirement already satisfied: pyparsing>=2.3.1 in /usr/local/lib/python3.10/dist-packages (from matplotlib->keras-video-generators) (3.2.0)\n",
            "Requirement already satisfied: python-dateutil>=2.7 in /usr/local/lib/python3.10/dist-packages (from matplotlib->keras-video-generators) (2.8.2)\n",
            "Requirement already satisfied: six>=1.5 in /usr/local/lib/python3.10/dist-packages (from python-dateutil>=2.7->matplotlib->keras-video-generators) (1.16.0)\n",
            "Requirement already satisfied: typing-extensions>=4.5.0 in /usr/local/lib/python3.10/dist-packages (from optree->keras>=2->keras-video-generators) (4.12.2)\n",
            "Requirement already satisfied: markdown-it-py>=2.2.0 in /usr/local/lib/python3.10/dist-packages (from rich->keras>=2->keras-video-generators) (3.0.0)\n",
            "Requirement already satisfied: pygments<3.0.0,>=2.13.0 in /usr/local/lib/python3.10/dist-packages (from rich->keras>=2->keras-video-generators) (2.18.0)\n",
            "Requirement already satisfied: mdurl~=0.1 in /usr/local/lib/python3.10/dist-packages (from markdown-it-py>=2.2.0->rich->keras>=2->keras-video-generators) (0.1.2)\n",
            "Building wheels for collected packages: keras-video-generators\n",
            "  Building wheel for keras-video-generators (setup.py) ... \u001b[?25l\u001b[?25hdone\n",
            "  Created wheel for keras-video-generators: filename=keras_video_generators-1.0.14-py3-none-any.whl size=12864 sha256=ebdb24ec5f2124319fef4076f7b709e10befeb24346d1ed6785eac8c0f563985\n",
            "  Stored in directory: /root/.cache/pip/wheels/07/f3/e9/05b72c5619bb293e3e92fbf43583f37a590b3058bbd25e2c61\n",
            "Successfully built keras-video-generators\n",
            "Installing collected packages: keras-video-generators\n",
            "Successfully installed keras-video-generators-1.0.14\n"
          ]
        }
      ],
      "source": [
        "! pip install mediapipe\n",
        "! pip install sk-video\n",
        "! pip install keras-video-generators\n",
        "import numpy as np\n",
        "import pandas as pd\n",
        "import os\n",
        "import skvideo.io\n",
        "import cv2\n",
        "import mediapipe as mp\n",
        "import time\n",
        "import matplotlib.pyplot as plt\n",
        "import glob\n",
        "import keras\n",
        "import tensorflow\n",
        "import tensorflow as tf\n",
        "from tensorflow.keras import Sequential\n",
        "from tensorflow.keras.layers import Dense, LSTM,Flatten, TimeDistributed, Conv2D, Dropout,Input"
      ]
    },
    {
      "cell_type": "code",
      "execution_count": null,
      "metadata": {
        "id": "7ternNUmPKvK"
      },
      "outputs": [],
      "source": [
        "# Open the file in write mode.\n",
        "with open('/usr/local/lib/python3.10/dist-packages/keras_video/generator.py', 'r+') as f:\n",
        "    # Read the content of the file.\n",
        "    content = f.read()\n",
        "\n",
        "    # Replace the old import with the new one.\n",
        "    content = content.replace(\"from keras.preprocessing.image import \\\\\", \"from tensorflow.keras.preprocessing.image import \\\\\")\n",
        "\n",
        "    # Go to the beginning of the file to overwrite.\n",
        "    f.seek(0)\n",
        "\n",
        "    # Write the updated content back to the file.\n",
        "    f.write(content)\n",
        "\n",
        "    # Truncate the file in case the new content is shorter.\n",
        "    f.truncate()"
      ]
    },
    {
      "cell_type": "code",
      "execution_count": null,
      "metadata": {
        "id": "DOpVQVZ8w033"
      },
      "outputs": [],
      "source": [
        "from keras_video import VideoFrameGenerator"
      ]
    },
    {
      "cell_type": "code",
      "execution_count": null,
      "metadata": {
        "id": "EWOxlFkFwoyC"
      },
      "outputs": [],
      "source": [
        "import sys\n",
        "sys.path.append('/content/')  # Replace with the actual path\n",
        "from pipeline import pose_estimation\n",
        "from pipeline import video_array_maker"
      ]
    },
    {
      "cell_type": "markdown",
      "metadata": {
        "id": "w0CBSgreta47"
      },
      "source": [
        "## Downloading and Unzipping Data"
      ]
    },
    {
      "cell_type": "code",
      "execution_count": null,
      "metadata": {
        "colab": {
          "base_uri": "https://localhost:8080/",
          "height": 52
        },
        "id": "74pNhtdExl2b",
        "outputId": "4b796e53-c4c6-48c9-f12e-9fd4642f080c"
      },
      "outputs": [
        {
          "data": {
            "application/vnd.google.colaboratory.intrinsic+json": {
              "type": "string"
            },
            "text/plain": [
              "'\\nGreetings_1of2 : Hello ,How are you,Alright ,Good morning ,Good Afternoon  :5\\nGreetings_2of2 : Thank You   :6\\nPronounts_1of2: You ,He, It  :9\\nPronounts_2of2:They : 10\\nNone : 11\\nAdjectives_1of8 : Loud ,Happy ,Sad ,Beautiful ,quiet : 16\\n'"
            ]
          },
          "execution_count": 14,
          "metadata": {},
          "output_type": "execute_result"
        }
      ],
      "source": [
        "# use sub directories names as classes\n",
        "\"\"\"\n",
        "Greetings_1of2 : Hello ,How are you,Alright ,Good morning ,Good Afternoon  :5\n",
        "Greetings_2of2 : Thank You   :6\n",
        "Pronounts_1of2: You ,He, It  :9\n",
        "Pronounts_2of2:They : 10\n",
        "None : 11\n",
        "Adjectives_1of8 : Loud ,Happy ,Sad ,Beautiful ,quiet : 16\n",
        "\"\"\""
      ]
    },
    {
      "cell_type": "code",
      "execution_count": null,
      "metadata": {
        "colab": {
          "base_uri": "https://localhost:8080/"
        },
        "id": "ZCoebtgTAzAW",
        "outputId": "eb508ab0-8261-4ea5-9cff-844af236d9e2"
      },
      "outputs": [
        {
          "name": "stdout",
          "output_type": "stream",
          "text": [
            "Mounted at /content/drive\n"
          ]
        }
      ],
      "source": [
        "from google.colab import drive\n",
        "drive.mount('/content/drive')"
      ]
    },
    {
      "cell_type": "code",
      "execution_count": null,
      "metadata": {
        "id": "N3AO4hgVjlTs"
      },
      "outputs": [],
      "source": [
        "#unzip realtime data"
      ]
    },
    {
      "cell_type": "code",
      "execution_count": null,
      "metadata": {
        "colab": {
          "base_uri": "https://localhost:8080/"
        },
        "id": "IoEjku8dHWWs",
        "outputId": "b7c29881-d392-47b6-b1c5-31447992de98"
      },
      "outputs": [
        {
          "name": "stdout",
          "output_type": "stream",
          "text": [
            "--2024-11-20 13:37:51--  https://zenodo.org/record/4010759/files/Greetings_1of2.zip\n",
            "Resolving zenodo.org (zenodo.org)... 188.184.103.159, 188.184.98.238, 188.185.79.172, ...\n",
            "Connecting to zenodo.org (zenodo.org)|188.184.103.159|:443... connected.\n",
            "HTTP request sent, awaiting response... 301 MOVED PERMANENTLY\n",
            "Location: /records/4010759/files/Greetings_1of2.zip [following]\n",
            "--2024-11-20 13:37:51--  https://zenodo.org/records/4010759/files/Greetings_1of2.zip\n",
            "Reusing existing connection to zenodo.org:443.\n",
            "HTTP request sent, awaiting response... 200 OK\n",
            "Length: 1573733886 (1.5G) [application/octet-stream]\n",
            "Saving to: ‘Greetings_1of2.zip’\n",
            "\n",
            "Greetings_1of2.zip  100%[===================>]   1.46G  12.2MB/s    in 2m 13s  \n",
            "\n",
            "2024-11-20 13:40:04 (11.3 MB/s) - ‘Greetings_1of2.zip’ saved [1573733886/1573733886]\n",
            "\n",
            "--2024-11-20 13:40:04--  https://zenodo.org/record/4010759/files/Greetings_2of2.zip\n",
            "Resolving zenodo.org (zenodo.org)... 188.185.79.172, 188.184.98.238, 188.184.103.159, ...\n",
            "Connecting to zenodo.org (zenodo.org)|188.185.79.172|:443... connected.\n",
            "HTTP request sent, awaiting response... 301 MOVED PERMANENTLY\n",
            "Location: /records/4010759/files/Greetings_2of2.zip [following]\n",
            "--2024-11-20 13:40:05--  https://zenodo.org/records/4010759/files/Greetings_2of2.zip\n",
            "Reusing existing connection to zenodo.org:443.\n",
            "HTTP request sent, awaiting response... 200 OK\n",
            "Length: 1208700458 (1.1G) [application/octet-stream]\n",
            "Saving to: ‘Greetings_2of2.zip’\n",
            "\n",
            "Greetings_2of2.zip  100%[===================>]   1.12G  12.5MB/s    in 5m 15s  \n",
            "\n",
            "2024-11-20 13:45:20 (3.66 MB/s) - ‘Greetings_2of2.zip’ saved [1208700458/1208700458]\n",
            "\n",
            "--2024-11-20 13:45:21--  https://zenodo.org/record/4010759/files/Pronouns_1of2.zip\n",
            "Resolving zenodo.org (zenodo.org)... 188.185.79.172, 188.184.103.159, 188.184.98.238, ...\n",
            "Connecting to zenodo.org (zenodo.org)|188.185.79.172|:443... connected.\n",
            "HTTP request sent, awaiting response... 301 MOVED PERMANENTLY\n",
            "Location: /records/4010759/files/Pronouns_1of2.zip [following]\n",
            "--2024-11-20 13:45:21--  https://zenodo.org/records/4010759/files/Pronouns_1of2.zip\n",
            "Reusing existing connection to zenodo.org:443.\n",
            "HTTP request sent, awaiting response... 200 OK\n",
            "Length: 1419853451 (1.3G) [application/octet-stream]\n",
            "Saving to: ‘Pronouns_1of2.zip’\n",
            "\n",
            "Pronouns_1of2.zip   100%[===================>]   1.32G  13.8MB/s    in 13m 43s \n",
            "\n",
            "2024-11-20 13:59:05 (1.64 MB/s) - ‘Pronouns_1of2.zip’ saved [1419853451/1419853451]\n",
            "\n",
            "--2024-11-20 13:59:05--  https://zenodo.org/record/4010759/files/Pronouns_2of2.zip\n",
            "Resolving zenodo.org (zenodo.org)... 188.184.98.238, 188.185.79.172, 188.184.103.159, ...\n",
            "Connecting to zenodo.org (zenodo.org)|188.184.98.238|:443... connected.\n",
            "HTTP request sent, awaiting response... 301 MOVED PERMANENTLY\n",
            "Location: /records/4010759/files/Pronouns_2of2.zip [following]\n",
            "--2024-11-20 13:59:06--  https://zenodo.org/records/4010759/files/Pronouns_2of2.zip\n",
            "Reusing existing connection to zenodo.org:443.\n",
            "HTTP request sent, awaiting response... 200 OK\n",
            "Length: 946837765 (903M) [application/octet-stream]\n",
            "Saving to: ‘Pronouns_2of2.zip’\n",
            "\n",
            "Pronouns_2of2.zip   100%[===================>] 902.97M  17.8MB/s    in 55s     \n",
            "\n",
            "2024-11-20 14:00:01 (16.5 MB/s) - ‘Pronouns_2of2.zip’ saved [946837765/946837765]\n",
            "\n",
            "--2024-11-20 14:00:01--  https://zenodo.org/record/4010759/files/Adjectives_1of8.zip\n",
            "Resolving zenodo.org (zenodo.org)... 188.184.103.159, 188.184.98.238, 188.185.79.172, ...\n",
            "Connecting to zenodo.org (zenodo.org)|188.184.103.159|:443... connected.\n",
            "HTTP request sent, awaiting response... 301 MOVED PERMANENTLY\n",
            "Location: /records/4010759/files/Adjectives_1of8.zip [following]\n",
            "--2024-11-20 14:00:01--  https://zenodo.org/records/4010759/files/Adjectives_1of8.zip\n",
            "Reusing existing connection to zenodo.org:443.\n",
            "HTTP request sent, awaiting response... 200 OK\n",
            "Length: 1303983457 (1.2G) [application/octet-stream]\n",
            "Saving to: ‘Adjectives_1of8.zip’\n",
            "\n",
            "Adjectives_1of8.zip 100%[===================>]   1.21G  12.3MB/s    in 1m 57s  \n",
            "\n",
            "2024-11-20 14:01:59 (10.6 MB/s) - ‘Adjectives_1of8.zip’ saved [1303983457/1303983457]\n",
            "\n"
          ]
        }
      ],
      "source": [
        "! wget https://zenodo.org/record/4010759/files/Greetings_1of2.zip\n",
        "! wget https://zenodo.org/record/4010759/files/Greetings_2of2.zip\n",
        "! wget https://zenodo.org/record/4010759/files/Pronouns_1of2.zip\n",
        "! wget https://zenodo.org/record/4010759/files/Pronouns_2of2.zip\n",
        "! wget https://zenodo.org/record/4010759/files/Adjectives_1of8.zip\n"
      ]
    },
    {
      "cell_type": "code",
      "execution_count": null,
      "metadata": {
        "colab": {
          "base_uri": "https://localhost:8080/"
        },
        "id": "4w4xU4VRnMDf",
        "outputId": "a4f01a94-ee19-46b0-c2ed-38527277192f"
      },
      "outputs": [
        {
          "name": "stdout",
          "output_type": "stream",
          "text": [
            "Archive:  Greetings_1of2.zip\n",
            "   creating: Greetings/\n",
            "   creating: Greetings/48. Hello/\n",
            "  inflating: Greetings/48. Hello/MVI_0029.MOV  \n",
            "  inflating: Greetings/48. Hello/MVI_0030.MOV  \n",
            "  inflating: Greetings/48. Hello/MVI_0031.MOV  \n",
            "  inflating: Greetings/48. Hello/MVI_0032.MOV  \n",
            "  inflating: Greetings/48. Hello/MVI_0037.MOV  \n",
            "  inflating: Greetings/48. Hello/MVI_0038.MOV  \n",
            "  inflating: Greetings/48. Hello/MVI_0039.MOV  \n",
            "  inflating: Greetings/48. Hello/MVI_0089.MOV  \n",
            "  inflating: Greetings/48. Hello/MVI_0090.MOV  \n",
            "  inflating: Greetings/48. Hello/MVI_0091.MOV  \n",
            "  inflating: Greetings/48. Hello/MVI_9914.MOV  \n",
            "  inflating: Greetings/48. Hello/MVI_9915.MOV  \n",
            "  inflating: Greetings/48. Hello/MVI_9916.MOV  \n",
            "  inflating: Greetings/48. Hello/MVI_9917.MOV  \n",
            "  inflating: Greetings/48. Hello/MVI_9954.MOV  \n",
            "  inflating: Greetings/48. Hello/MVI_9955.MOV  \n",
            "  inflating: Greetings/48. Hello/MVI_9956.MOV  \n",
            "  inflating: Greetings/48. Hello/MVI_9957.MOV  \n",
            "  inflating: Greetings/48. Hello/MVI_9982.MOV  \n",
            "  inflating: Greetings/48. Hello/MVI_9983.MOV  \n",
            "  inflating: Greetings/48. Hello/MVI_9984.MOV  \n",
            "   creating: Greetings/49. How are you/\n",
            "  inflating: Greetings/49. How are you/MVI_0033.MOV  \n",
            "  inflating: Greetings/49. How are you/MVI_0034.MOV  \n",
            "  inflating: Greetings/49. How are you/MVI_0035.MOV  \n",
            "  inflating: Greetings/49. How are you/MVI_0036.MOV  \n",
            "  inflating: Greetings/49. How are you/MVI_0040.MOV  \n",
            "  inflating: Greetings/49. How are you/MVI_0041.MOV  \n",
            "  inflating: Greetings/49. How are you/MVI_0042.MOV  \n",
            "  inflating: Greetings/49. How are you/MVI_0092.MOV  \n",
            "  inflating: Greetings/49. How are you/MVI_0093.MOV  \n",
            "  inflating: Greetings/49. How are you/MVI_0094.MOV  \n",
            "  inflating: Greetings/49. How are you/MVI_9918.MOV  \n",
            "  inflating: Greetings/49. How are you/MVI_9919.MOV  \n",
            "  inflating: Greetings/49. How are you/MVI_9920.MOV  \n",
            "  inflating: Greetings/49. How are you/MVI_9921.MOV  \n",
            "  inflating: Greetings/49. How are you/MVI_9959.MOV  \n",
            "  inflating: Greetings/49. How are you/MVI_9960.MOV  \n",
            "  inflating: Greetings/49. How are you/MVI_9961.MOV  \n",
            "  inflating: Greetings/49. How are you/MVI_9962.MOV  \n",
            "  inflating: Greetings/49. How are you/MVI_9985.MOV  \n",
            "  inflating: Greetings/49. How are you/MVI_9986.MOV  \n",
            "  inflating: Greetings/49. How are you/MVI_9987.MOV  \n",
            "   creating: Greetings/50. Alright/\n",
            "  inflating: Greetings/50. Alright/MVI_0037.MOV  \n",
            "  inflating: Greetings/50. Alright/MVI_0038.MOV  \n",
            "  inflating: Greetings/50. Alright/MVI_0039.MOV  \n",
            "  inflating: Greetings/50. Alright/MVI_0040.MOV  \n",
            "  inflating: Greetings/50. Alright/MVI_0043.MOV  \n",
            "  inflating: Greetings/50. Alright/MVI_0044.MOV  \n",
            "  inflating: Greetings/50. Alright/MVI_0045.MOV  \n",
            "  inflating: Greetings/50. Alright/MVI_0095.MOV  \n",
            "  inflating: Greetings/50. Alright/MVI_0096.MOV  \n",
            "  inflating: Greetings/50. Alright/MVI_0097.MOV  \n",
            "  inflating: Greetings/50. Alright/MVI_9923.MOV  \n",
            "  inflating: Greetings/50. Alright/MVI_9924.MOV  \n",
            "  inflating: Greetings/50. Alright/MVI_9925.MOV  \n",
            "  inflating: Greetings/50. Alright/MVI_9926.MOV  \n",
            "  inflating: Greetings/50. Alright/MVI_9963.MOV  \n",
            "  inflating: Greetings/50. Alright/MVI_9964.MOV  \n",
            "  inflating: Greetings/50. Alright/MVI_9965.MOV  \n",
            "  inflating: Greetings/50. Alright/MVI_9966.MOV  \n",
            "  inflating: Greetings/50. Alright/MVI_9988.MOV  \n",
            "  inflating: Greetings/50. Alright/MVI_9989.MOV  \n",
            "  inflating: Greetings/50. Alright/MVI_9990.MOV  \n",
            "   creating: Greetings/51. Good Morning/\n",
            "  inflating: Greetings/51. Good Morning/MVI_0042.MOV  \n",
            "  inflating: Greetings/51. Good Morning/MVI_0043.MOV  \n",
            "  inflating: Greetings/51. Good Morning/MVI_0044.MOV  \n",
            "  inflating: Greetings/51. Good Morning/MVI_0045.MOV  \n",
            "  inflating: Greetings/51. Good Morning/MVI_0046.MOV  \n",
            "  inflating: Greetings/51. Good Morning/MVI_0047.MOV  \n",
            "  inflating: Greetings/51. Good Morning/MVI_0048.MOV  \n",
            "  inflating: Greetings/51. Good Morning/MVI_0098.MOV  \n",
            "  inflating: Greetings/51. Good Morning/MVI_0099.MOV  \n",
            "  inflating: Greetings/51. Good Morning/MVI_0100.MOV  \n",
            "  inflating: Greetings/51. Good Morning/MVI_9932.MOV  \n",
            "  inflating: Greetings/51. Good Morning/MVI_9933.MOV  \n",
            "  inflating: Greetings/51. Good Morning/MVI_9934.MOV  \n",
            "  inflating: Greetings/51. Good Morning/MVI_9935.MOV  \n",
            "  inflating: Greetings/51. Good Morning/MVI_9968.MOV  \n",
            "  inflating: Greetings/51. Good Morning/MVI_9969.MOV  \n",
            "  inflating: Greetings/51. Good Morning/MVI_9970.MOV  \n",
            "  inflating: Greetings/51. Good Morning/MVI_9971.MOV  \n",
            "  inflating: Greetings/51. Good Morning/MVI_9991.MOV  \n",
            "  inflating: Greetings/51. Good Morning/MVI_9992.MOV  \n",
            "  inflating: Greetings/51. Good Morning/MVI_9993.MOV  \n",
            "   creating: Greetings/52. Good afternoon/\n",
            "  inflating: Greetings/52. Good afternoon/MVI_0046.MOV  \n",
            "  inflating: Greetings/52. Good afternoon/MVI_0047.MOV  \n",
            "  inflating: Greetings/52. Good afternoon/MVI_0048.MOV  \n",
            "  inflating: Greetings/52. Good afternoon/MVI_0049.MOV  \n",
            "  inflating: Greetings/52. Good afternoon/MVI_0050.MOV  \n",
            "  inflating: Greetings/52. Good afternoon/MVI_0050_ (1).MOV  \n",
            "  inflating: Greetings/52. Good afternoon/MVI_0050_ (2).MOV  \n",
            "  inflating: Greetings/52. Good afternoon/MVI_0051.MOV  \n",
            "  inflating: Greetings/52. Good afternoon/MVI_0101.MOV  \n",
            "  inflating: Greetings/52. Good afternoon/MVI_0102.MOV  \n",
            "  inflating: Greetings/52. Good afternoon/MVI_0103.MOV  \n",
            "  inflating: Greetings/52. Good afternoon/MVI_9936.MOV  \n",
            "  inflating: Greetings/52. Good afternoon/MVI_9937.MOV  \n",
            "  inflating: Greetings/52. Good afternoon/MVI_9938.MOV  \n",
            "  inflating: Greetings/52. Good afternoon/MVI_9939.MOV  \n",
            "  inflating: Greetings/52. Good afternoon/MVI_9972.MOV  \n",
            "  inflating: Greetings/52. Good afternoon/MVI_9973.MOV  \n",
            "  inflating: Greetings/52. Good afternoon/MVI_9974.MOV  \n",
            "  inflating: Greetings/52. Good afternoon/MVI_9975.MOV  \n",
            "  inflating: Greetings/52. Good afternoon/MVI_9994.MOV  \n",
            "  inflating: Greetings/52. Good afternoon/MVI_9995.MOV  \n",
            "  inflating: Greetings/52. Good afternoon/MVI_9996.MOV  \n",
            "Archive:  Greetings_2of2.zip\n",
            "   creating: Greetings/53. Good evening/\n",
            "  inflating: Greetings/53. Good evening/MVI_0001.MOV  \n",
            "  inflating: Greetings/53. Good evening/MVI_0052.MOV  \n",
            "  inflating: Greetings/53. Good evening/MVI_0053.MOV  \n",
            "  inflating: Greetings/53. Good evening/MVI_0054.MOV  \n",
            "  inflating: Greetings/53. Good evening/MVI_0055.MOV  \n",
            "  inflating: Greetings/53. Good evening/MVI_005_4 (1).MOV  \n",
            "  inflating: Greetings/53. Good evening/MVI_005_4 (2).MOV  \n",
            "  inflating: Greetings/53. Good evening/MVI_005_4 (3).MOV  \n",
            "  inflating: Greetings/53. Good evening/MVI_0105.MOV  \n",
            "  inflating: Greetings/53. Good evening/MVI_0106.MOV  \n",
            "  inflating: Greetings/53. Good evening/MVI_0107.MOV  \n",
            "  inflating: Greetings/53. Good evening/MVI_9940.MOV  \n",
            "  inflating: Greetings/53. Good evening/MVI_9941.MOV  \n",
            "  inflating: Greetings/53. Good evening/MVI_9942.MOV  \n",
            "  inflating: Greetings/53. Good evening/MVI_9943.MOV  \n",
            "  inflating: Greetings/53. Good evening/MVI_9976.MOV  \n",
            "  inflating: Greetings/53. Good evening/MVI_9977.MOV  \n",
            "  inflating: Greetings/53. Good evening/MVI_9978.MOV  \n",
            "  inflating: Greetings/53. Good evening/MVI_9979.MOV  \n",
            "  inflating: Greetings/53. Good evening/MVI_9998.MOV  \n",
            "  inflating: Greetings/53. Good evening/MVI_9999.MOV  \n",
            "   creating: Greetings/54. Good night/\n",
            "  inflating: Greetings/54. Good night/MVI_0002.MOV  \n",
            "  inflating: Greetings/54. Good night/MVI_0003.MOV  \n",
            "  inflating: Greetings/54. Good night/MVI_0004.MOV  \n",
            "  inflating: Greetings/54. Good night/MVI_0055.MOV  \n",
            "  inflating: Greetings/54. Good night/MVI_0056.MOV  \n",
            "  inflating: Greetings/54. Good night/MVI_0057.MOV  \n",
            "  inflating: Greetings/54. Good night/MVI_0057_.MOV  \n",
            "  inflating: Greetings/54. Good night/MVI_0058.MOV  \n",
            "  inflating: Greetings/54. Good night/MVI_0059.MOV  \n",
            "  inflating: Greetings/54. Good night/MVI_005_6.MOV  \n",
            "  inflating: Greetings/54. Good night/MVI_0108.MOV  \n",
            "  inflating: Greetings/54. Good night/MVI_0109.MOV  \n",
            "  inflating: Greetings/54. Good night/MVI_0110.MOV  \n",
            "  inflating: Greetings/54. Good night/MVI_9944.MOV  \n",
            "  inflating: Greetings/54. Good night/MVI_9945.MOV  \n",
            "  inflating: Greetings/54. Good night/MVI_9946.MOV  \n",
            "  inflating: Greetings/54. Good night/MVI_9947.MOV  \n",
            "  inflating: Greetings/54. Good night/MVI_9980.MOV  \n",
            "  inflating: Greetings/54. Good night/MVI_9981.MOV  \n",
            "  inflating: Greetings/54. Good night/MVI_9982.MOV  \n",
            "  inflating: Greetings/54. Good night/MVI_9983.MOV  \n",
            "   creating: Greetings/55. Thank you/\n",
            "  inflating: Greetings/55. Thank you/MVI_0006.MOV  \n",
            "  inflating: Greetings/55. Thank you/MVI_0007.MOV  \n",
            "  inflating: Greetings/55. Thank you/MVI_0008.MOV  \n",
            "  inflating: Greetings/55. Thank you/MVI_0058.MOV  \n",
            "  inflating: Greetings/55. Thank you/MVI_0059.MOV  \n",
            "  inflating: Greetings/55. Thank you/MVI_0060.MOV  \n",
            "  inflating: Greetings/55. Thank you/MVI_0060_.MOV  \n",
            "  inflating: Greetings/55. Thank you/MVI_0061.MOV  \n",
            "  inflating: Greetings/55. Thank you/MVI_0062.MOV  \n",
            "  inflating: Greetings/55. Thank you/MVI_0063.MOV  \n",
            "  inflating: Greetings/55. Thank you/MVI_0111.MOV  \n",
            "  inflating: Greetings/55. Thank you/MVI_0112.MOV  \n",
            "  inflating: Greetings/55. Thank you/MVI_0113.MOV  \n",
            "  inflating: Greetings/55. Thank you/MVI_9948.MOV  \n",
            "  inflating: Greetings/55. Thank you/MVI_9949.MOV  \n",
            "  inflating: Greetings/55. Thank you/MVI_9950.MOV  \n",
            "  inflating: Greetings/55. Thank you/MVI_9951.MOV  \n",
            "  inflating: Greetings/55. Thank you/MVI_9984.MOV  \n",
            "  inflating: Greetings/55. Thank you/MVI_9985.MOV  \n",
            "  inflating: Greetings/55. Thank you/MVI_9986.MOV  \n",
            "  inflating: Greetings/55. Thank you/MVI_9987.MOV  \n",
            "   creating: Greetings/56. Pleased/\n",
            "  inflating: Greetings/56. Pleased/MVI_0009.MOV  \n",
            "  inflating: Greetings/56. Pleased/MVI_0010.MOV  \n",
            "  inflating: Greetings/56. Pleased/MVI_0011.MOV  \n",
            "  inflating: Greetings/56. Pleased/MVI_0061.MOV  \n",
            "  inflating: Greetings/56. Pleased/MVI_0062.MOV  \n",
            "  inflating: Greetings/56. Pleased/MVI_0063.MOV  \n",
            "  inflating: Greetings/56. Pleased/MVI_0065.MOV  \n",
            "  inflating: Greetings/56. Pleased/MVI_0066.MOV  \n",
            "  inflating: Greetings/56. Pleased/MVI_0067.MOV  \n",
            "  inflating: Greetings/56. Pleased/MVI_0068.MOV  \n",
            "  inflating: Greetings/56. Pleased/MVI_0114.MOV  \n",
            "  inflating: Greetings/56. Pleased/MVI_0115.MOV  \n",
            "  inflating: Greetings/56. Pleased/MVI_0116.MOV  \n",
            "  inflating: Greetings/56. Pleased/MVI_9952.MOV  \n",
            "  inflating: Greetings/56. Pleased/MVI_9953.MOV  \n",
            "  inflating: Greetings/56. Pleased/MVI_9954.MOV  \n",
            "  inflating: Greetings/56. Pleased/MVI_9955.MOV  \n",
            "  inflating: Greetings/56. Pleased/MVI_9988.MOV  \n",
            "  inflating: Greetings/56. Pleased/MVI_9989.MOV  \n",
            "  inflating: Greetings/56. Pleased/MVI_9990.MOV  \n",
            "  inflating: Greetings/56. Pleased/MVI_9991.MOV  \n",
            "Archive:  Pronouns_1of2.zip\n",
            "   creating: Pronouns/\n",
            "   creating: Pronouns/40. I/\n",
            "  inflating: Pronouns/40. I/MVI_0001.MOV  \n",
            "  inflating: Pronouns/40. I/MVI_0002.MOV  \n",
            "  inflating: Pronouns/40. I/MVI_0003.MOV  \n",
            "  inflating: Pronouns/40. I/MVI_0012.MOV  \n",
            "  inflating: Pronouns/40. I/MVI_0013.MOV  \n",
            "  inflating: Pronouns/40. I/MVI_0014.MOV  \n",
            "  inflating: Pronouns/40. I/MVI_0064.MOV  \n",
            "  inflating: Pronouns/40. I/MVI_0065.MOV  \n",
            "  inflating: Pronouns/40. I/MVI_0066.MOV  \n",
            "  inflating: Pronouns/40. I/MVI_9878.MOV  \n",
            "  inflating: Pronouns/40. I/MVI_9879.MOV  \n",
            "  inflating: Pronouns/40. I/MVI_9880.MOV  \n",
            "  inflating: Pronouns/40. I/MVI_9881.MOV  \n",
            "  inflating: Pronouns/40. I/MVI_9918.MOV  \n",
            "  inflating: Pronouns/40. I/MVI_9919.MOV  \n",
            "  inflating: Pronouns/40. I/MVI_9920.MOV  \n",
            "  inflating: Pronouns/40. I/MVI_9922.MOV  \n",
            "  inflating: Pronouns/40. I/MVI_9957.MOV  \n",
            "  inflating: Pronouns/40. I/MVI_9958.MOV  \n",
            "  inflating: Pronouns/40. I/MVI_9959.MOV  \n",
            "  inflating: Pronouns/40. I/MVI_9995.MOV  \n",
            "   creating: Pronouns/41. you/\n",
            "  inflating: Pronouns/41. you/MVI_0015.MOV  \n",
            "  inflating: Pronouns/41. you/MVI_0016.MOV  \n",
            "  inflating: Pronouns/41. you/MVI_0017.MOV  \n",
            "  inflating: Pronouns/41. you/MVI_0067.MOV  \n",
            "  inflating: Pronouns/41. you/MVI_0068.MOV  \n",
            "  inflating: Pronouns/41. you/MVI_0069.MOV  \n",
            "  inflating: Pronouns/41. you/MVI_9885.MOV  \n",
            "  inflating: Pronouns/41. you/MVI_9886.MOV  \n",
            "  inflating: Pronouns/41. you/MVI_9887.MOV  \n",
            "  inflating: Pronouns/41. you/MVI_9888.MOV  \n",
            "  inflating: Pronouns/41. you/MVI_9923.MOV  \n",
            "  inflating: Pronouns/41. you/MVI_9924.MOV  \n",
            "  inflating: Pronouns/41. you/MVI_9925.MOV  \n",
            "  inflating: Pronouns/41. you/MVI_9926.MOV  \n",
            "  inflating: Pronouns/41. you/MVI_9960.MOV  \n",
            "  inflating: Pronouns/41. you/MVI_9961.MOV  \n",
            "  inflating: Pronouns/41. you/MVI_9962.MOV  \n",
            "  inflating: Pronouns/41. you/MVI_9996.MOV  \n",
            "  inflating: Pronouns/41. you/MVI_9997.MOV  \n",
            "  inflating: Pronouns/41. you/MVI_9998.MOV  \n",
            "  inflating: Pronouns/41. you/MVI_9999.MOV  \n",
            "   creating: Pronouns/42. he/\n",
            "  inflating: Pronouns/42. he/MVI_0005.MOV  \n",
            "  inflating: Pronouns/42. he/MVI_0006.MOV  \n",
            "  inflating: Pronouns/42. he/MVI_0007.MOV  \n",
            "  inflating: Pronouns/42. he/MVI_0008.MOV  \n",
            "  inflating: Pronouns/42. he/MVI_0018.MOV  \n",
            "  inflating: Pronouns/42. he/MVI_0019.MOV  \n",
            "  inflating: Pronouns/42. he/MVI_0020.MOV  \n",
            "  inflating: Pronouns/42. he/MVI_0070.MOV  \n",
            "  inflating: Pronouns/42. he/MVI_0071.MOV  \n",
            "  inflating: Pronouns/42. he/MVI_0072.MOV  \n",
            "  inflating: Pronouns/42. he/MVI_9889.MOV  \n",
            "  inflating: Pronouns/42. he/MVI_9890.MOV  \n",
            "  inflating: Pronouns/42. he/MVI_9891.MOV  \n",
            "  inflating: Pronouns/42. he/MVI_9892.MOV  \n",
            "  inflating: Pronouns/42. he/MVI_9927.MOV  \n",
            "  inflating: Pronouns/42. he/MVI_9928.MOV  \n",
            "  inflating: Pronouns/42. he/MVI_9930.MOV  \n",
            "  inflating: Pronouns/42. he/MVI_9931.MOV  \n",
            "  inflating: Pronouns/42. he/MVI_9963.MOV  \n",
            "  inflating: Pronouns/42. he/MVI_9964.MOV  \n",
            "  inflating: Pronouns/42. he/MVI_9965.MOV  \n",
            "   creating: Pronouns/43. she/\n",
            "  inflating: Pronouns/43. she/MVI_0009.MOV  \n",
            "  inflating: Pronouns/43. she/MVI_0010.MOV  \n",
            "  inflating: Pronouns/43. she/MVI_0011.MOV  \n",
            "  inflating: Pronouns/43. she/MVI_0012.MOV  \n",
            "  inflating: Pronouns/43. she/MVI_0021.MOV  \n",
            "  inflating: Pronouns/43. she/MVI_0022.MOV  \n",
            "  inflating: Pronouns/43. she/MVI_0023.MOV  \n",
            "  inflating: Pronouns/43. she/MVI_0073.MOV  \n",
            "  inflating: Pronouns/43. she/MVI_0074.MOV  \n",
            "  inflating: Pronouns/43. she/MVI_0075.MOV  \n",
            "  inflating: Pronouns/43. she/MVI_9893.MOV  \n",
            "  inflating: Pronouns/43. she/MVI_9894.MOV  \n",
            "  inflating: Pronouns/43. she/MVI_9895.MOV  \n",
            "  inflating: Pronouns/43. she/MVI_9896.MOV  \n",
            "  inflating: Pronouns/43. she/MVI_9932.MOV  \n",
            "  inflating: Pronouns/43. she/MVI_9933.MOV  \n",
            "  inflating: Pronouns/43. she/MVI_9934.MOV  \n",
            "  inflating: Pronouns/43. she/MVI_9935.MOV  \n",
            "  inflating: Pronouns/43. she/MVI_9966.MOV  \n",
            "  inflating: Pronouns/43. she/MVI_9967.MOV  \n",
            "  inflating: Pronouns/43. she/MVI_9968.MOV  \n",
            "   creating: Pronouns/44. it/\n",
            "  inflating: Pronouns/44. it/MVI_0013.MOV  \n",
            "  inflating: Pronouns/44. it/MVI_0014.MOV  \n",
            "  inflating: Pronouns/44. it/MVI_0015.MOV  \n",
            "  inflating: Pronouns/44. it/MVI_0016.MOV  \n",
            "  inflating: Pronouns/44. it/MVI_0024.MOV  \n",
            "  inflating: Pronouns/44. it/MVI_0025.MOV  \n",
            "  inflating: Pronouns/44. it/MVI_0026.MOV  \n",
            "  inflating: Pronouns/44. it/MVI_0076.MOV  \n",
            "  inflating: Pronouns/44. it/MVI_0077.MOV  \n",
            "  inflating: Pronouns/44. it/MVI_0078.MOV  \n",
            "  inflating: Pronouns/44. it/MVI_9897.MOV  \n",
            "  inflating: Pronouns/44. it/MVI_9898.MOV  \n",
            "  inflating: Pronouns/44. it/MVI_9899.MOV  \n",
            "  inflating: Pronouns/44. it/MVI_9900.MOV  \n",
            "  inflating: Pronouns/44. it/MVI_9936.MOV  \n",
            "  inflating: Pronouns/44. it/MVI_9937.MOV  \n",
            "  inflating: Pronouns/44. it/MVI_9938.MOV  \n",
            "  inflating: Pronouns/44. it/MVI_9939.MOV  \n",
            "  inflating: Pronouns/44. it/MVI_9969.MOV  \n",
            "  inflating: Pronouns/44. it/MVI_9970.MOV  \n",
            "  inflating: Pronouns/44. it/MVI_9971.MOV  \n",
            "Archive:  Pronouns_2of2.zip\n",
            "   creating: Pronouns/45. we/\n",
            "  inflating: Pronouns/45. we/MVI_0017.MOV  \n",
            "  inflating: Pronouns/45. we/MVI_0018.MOV  \n",
            "  inflating: Pronouns/45. we/MVI_0019.MOV  \n",
            "  inflating: Pronouns/45. we/MVI_0020.MOV  \n",
            "  inflating: Pronouns/45. we/MVI_0027.MOV  \n",
            "  inflating: Pronouns/45. we/MVI_0028.MOV  \n",
            "  inflating: Pronouns/45. we/MVI_0029.MOV  \n",
            "  inflating: Pronouns/45. we/MVI_0079.MOV  \n",
            "  inflating: Pronouns/45. we/MVI_0080.MOV  \n",
            "  inflating: Pronouns/45. we/MVI_0081.MOV  \n",
            "  inflating: Pronouns/45. we/MVI_9901.MOV  \n",
            "  inflating: Pronouns/45. we/MVI_9902.MOV  \n",
            "  inflating: Pronouns/45. we/MVI_9903.MOV  \n",
            "  inflating: Pronouns/45. we/MVI_9904.MOV  \n",
            "  inflating: Pronouns/45. we/MVI_9940.MOV  \n",
            "  inflating: Pronouns/45. we/MVI_9941.MOV  \n",
            "  inflating: Pronouns/45. we/MVI_9942.MOV  \n",
            "  inflating: Pronouns/45. we/MVI_9943.MOV  \n",
            "  inflating: Pronouns/45. we/MVI_9972.MOV  \n",
            "  inflating: Pronouns/45. we/MVI_9973.MOV  \n",
            "  inflating: Pronouns/45. we/MVI_9974.MOV  \n",
            "   creating: Pronouns/46. you (plural)/\n",
            "  inflating: Pronouns/46. you (plural)/MVI_0021.MOV  \n",
            "  inflating: Pronouns/46. you (plural)/MVI_0022.MOV  \n",
            "  inflating: Pronouns/46. you (plural)/MVI_0023.MOV  \n",
            "  inflating: Pronouns/46. you (plural)/MVI_0024.MOV  \n",
            "  inflating: Pronouns/46. you (plural)/MVI_0030.MOV  \n",
            "  inflating: Pronouns/46. you (plural)/MVI_0031.MOV  \n",
            "  inflating: Pronouns/46. you (plural)/MVI_0032.MOV  \n",
            "  inflating: Pronouns/46. you (plural)/MVI_0082.MOV  \n",
            "  inflating: Pronouns/46. you (plural)/MVI_0083.MOV  \n",
            "  inflating: Pronouns/46. you (plural)/MVI_0084.MOV  \n",
            "  inflating: Pronouns/46. you (plural)/MVI_9905.MOV  \n",
            "  inflating: Pronouns/46. you (plural)/MVI_9907.MOV  \n",
            "  inflating: Pronouns/46. you (plural)/MVI_9908.MOV  \n",
            "  inflating: Pronouns/46. you (plural)/MVI_9909.MOV  \n",
            "  inflating: Pronouns/46. you (plural)/MVI_9945.MOV  \n",
            "  inflating: Pronouns/46. you (plural)/MVI_9946.MOV  \n",
            "  inflating: Pronouns/46. you (plural)/MVI_9947.MOV  \n",
            "  inflating: Pronouns/46. you (plural)/MVI_9948.MOV  \n",
            "  inflating: Pronouns/46. you (plural)/MVI_9975.MOV  \n",
            "  inflating: Pronouns/46. you (plural)/MVI_9976.MOV  \n",
            "  inflating: Pronouns/46. you (plural)/MVI_9977.MOV  \n",
            "   creating: Pronouns/47. they/\n",
            "  inflating: Pronouns/47. they/MVI_0025.MOV  \n",
            "  inflating: Pronouns/47. they/MVI_0026.MOV  \n",
            "  inflating: Pronouns/47. they/MVI_0027.MOV  \n",
            "  inflating: Pronouns/47. they/MVI_0028.MOV  \n",
            "  inflating: Pronouns/47. they/MVI_0033.MOV  \n",
            "  inflating: Pronouns/47. they/MVI_0034.MOV  \n",
            "  inflating: Pronouns/47. they/MVI_0035.MOV  \n",
            "  inflating: Pronouns/47. they/MVI_0085.MOV  \n",
            "  inflating: Pronouns/47. they/MVI_0087.MOV  \n",
            "  inflating: Pronouns/47. they/MVI_0088.MOV  \n",
            "  inflating: Pronouns/47. they/MVI_9910.MOV  \n",
            "  inflating: Pronouns/47. they/MVI_9911.MOV  \n",
            "  inflating: Pronouns/47. they/MVI_9912.MOV  \n",
            "  inflating: Pronouns/47. they/MVI_9913.MOV  \n",
            "  inflating: Pronouns/47. they/MVI_9950.MOV  \n",
            "  inflating: Pronouns/47. they/MVI_9951.MOV  \n",
            "  inflating: Pronouns/47. they/MVI_9952.MOV  \n",
            "  inflating: Pronouns/47. they/MVI_9953.MOV  \n",
            "  inflating: Pronouns/47. they/MVI_9979.MOV  \n",
            "  inflating: Pronouns/47. they/MVI_9980.MOV  \n",
            "  inflating: Pronouns/47. they/MVI_9981.MOV  \n",
            "Archive:  Adjectives_1of8.zip\n",
            "   creating: Adjectives/\n",
            "   creating: Adjectives/1. loud/\n",
            "  inflating: Adjectives/1. loud/MVI_5177.MOV  \n",
            "  inflating: Adjectives/1. loud/MVI_5178.MOV  \n",
            "  inflating: Adjectives/1. loud/MVI_5179.MOV  \n",
            "  inflating: Adjectives/1. loud/MVI_5257.MOV  \n",
            "  inflating: Adjectives/1. loud/MVI_5258.MOV  \n",
            "  inflating: Adjectives/1. loud/MVI_5259.MOV  \n",
            "  inflating: Adjectives/1. loud/MVI_5335.MOV  \n",
            "  inflating: Adjectives/1. loud/MVI_5336.MOV  \n",
            "  inflating: Adjectives/1. loud/MVI_5337.MOV  \n",
            "  inflating: Adjectives/1. loud/MVI_9289.MOV  \n",
            "  inflating: Adjectives/1. loud/MVI_9290.MOV  \n",
            "  inflating: Adjectives/1. loud/MVI_9291.MOV  \n",
            "  inflating: Adjectives/1. loud/MVI_9368.MOV  \n",
            "  inflating: Adjectives/1. loud/MVI_9369.MOV  \n",
            "  inflating: Adjectives/1. loud/MVI_9370.MOV  \n",
            "  inflating: Adjectives/1. loud/MVI_9448.MOV  \n",
            "  inflating: Adjectives/1. loud/MVI_9449.MOV  \n",
            "  inflating: Adjectives/1. loud/MVI_9450.MOV  \n",
            "  inflating: Adjectives/1. loud/MVI_9534.MOV  \n",
            "  inflating: Adjectives/1. loud/MVI_9535.MOV  \n",
            "  inflating: Adjectives/1. loud/MVI_9536.MOV  \n",
            "   creating: Adjectives/2. quiet/\n",
            "  inflating: Adjectives/2. quiet/MVI_5180.MOV  \n",
            "  inflating: Adjectives/2. quiet/MVI_5181.MOV  \n",
            "  inflating: Adjectives/2. quiet/MVI_5182.MOV  \n",
            "  inflating: Adjectives/2. quiet/MVI_5260.MOV  \n",
            "  inflating: Adjectives/2. quiet/MVI_5261.MOV  \n",
            "  inflating: Adjectives/2. quiet/MVI_5262.MOV  \n",
            "  inflating: Adjectives/2. quiet/MVI_5338.MOV  \n",
            "  inflating: Adjectives/2. quiet/MVI_5339.MOV  \n",
            "  inflating: Adjectives/2. quiet/MVI_5340.MOV  \n",
            "  inflating: Adjectives/2. quiet/MVI_9292.MOV  \n",
            "  inflating: Adjectives/2. quiet/MVI_9293.MOV  \n",
            "  inflating: Adjectives/2. quiet/MVI_9294.MOV  \n",
            "  inflating: Adjectives/2. quiet/MVI_9371.MOV  \n",
            "  inflating: Adjectives/2. quiet/MVI_9372.MOV  \n",
            "  inflating: Adjectives/2. quiet/MVI_9373.MOV  \n",
            "  inflating: Adjectives/2. quiet/MVI_9451.MOV  \n",
            "  inflating: Adjectives/2. quiet/MVI_9452.MOV  \n",
            "  inflating: Adjectives/2. quiet/MVI_9453.MOV  \n",
            "  inflating: Adjectives/2. quiet/MVI_9537.MOV  \n",
            "  inflating: Adjectives/2. quiet/MVI_9538.MOV  \n",
            "  inflating: Adjectives/2. quiet/MVI_9539.MOV  \n",
            "   creating: Adjectives/3. happy/\n",
            "  inflating: Adjectives/3. happy/MVI_5183.MOV  \n",
            "  inflating: Adjectives/3. happy/MVI_5184.MOV  \n",
            "  inflating: Adjectives/3. happy/MVI_5185.MOV  \n",
            "  inflating: Adjectives/3. happy/MVI_5263.MOV  \n",
            "  inflating: Adjectives/3. happy/MVI_5264.MOV  \n",
            "  inflating: Adjectives/3. happy/MVI_5265.MOV  \n",
            "  inflating: Adjectives/3. happy/MVI_5341.MOV  \n",
            "  inflating: Adjectives/3. happy/MVI_5342.MOV  \n",
            "  inflating: Adjectives/3. happy/MVI_5343.MOV  \n",
            "  inflating: Adjectives/3. happy/MVI_9295.MOV  \n",
            "  inflating: Adjectives/3. happy/MVI_9296.MOV  \n",
            "  inflating: Adjectives/3. happy/MVI_9297.MOV  \n",
            "  inflating: Adjectives/3. happy/MVI_9374.MOV  \n",
            "  inflating: Adjectives/3. happy/MVI_9375.MOV  \n",
            "  inflating: Adjectives/3. happy/MVI_9376.MOV  \n",
            "  inflating: Adjectives/3. happy/MVI_9454.MOV  \n",
            "  inflating: Adjectives/3. happy/MVI_9455.MOV  \n",
            "  inflating: Adjectives/3. happy/MVI_9456.MOV  \n",
            "  inflating: Adjectives/3. happy/MVI_9540.MOV  \n",
            "  inflating: Adjectives/3. happy/MVI_9541.MOV  \n",
            "  inflating: Adjectives/3. happy/MVI_9542.MOV  \n",
            "   creating: Adjectives/4. sad/\n",
            "  inflating: Adjectives/4. sad/MVI_9565.MOV  \n",
            "  inflating: Adjectives/4. sad/MVI_9566.MOV  \n",
            "  inflating: Adjectives/4. sad/MVI_9567.MOV  \n",
            "  inflating: Adjectives/4. sad/MVI_9568.MOV  \n",
            "  inflating: Adjectives/4. sad/MVI_9719.MOV  \n",
            "  inflating: Adjectives/4. sad/MVI_9720.MOV  \n",
            "  inflating: Adjectives/4. sad/MVI_9721.MOV  \n",
            "  inflating: Adjectives/4. sad/MVI_9722.MOV  \n",
            "   creating: Adjectives/5. Beautiful/\n",
            "   creating: Adjectives/5. Beautiful/Extra/\n",
            "  inflating: Adjectives/5. Beautiful/Extra/MVI_9573.MOV  \n",
            "  inflating: Adjectives/5. Beautiful/MVI_9569.MOV  \n",
            "  inflating: Adjectives/5. Beautiful/MVI_9570.MOV  \n",
            "  inflating: Adjectives/5. Beautiful/MVI_9571.MOV  \n",
            "  inflating: Adjectives/5. Beautiful/MVI_9572.MOV  \n",
            "  inflating: Adjectives/5. Beautiful/MVI_9723.MOV  \n",
            "  inflating: Adjectives/5. Beautiful/MVI_9724.MOV  \n",
            "  inflating: Adjectives/5. Beautiful/MVI_9725.MOV  \n",
            "  inflating: Adjectives/5. Beautiful/MVI_9726.MOV  \n",
            "   creating: Adjectives/6. Ugly/\n",
            "  inflating: Adjectives/6. Ugly/MVI_9576.MOV  \n",
            "  inflating: Adjectives/6. Ugly/MVI_9577.MOV  \n",
            "  inflating: Adjectives/6. Ugly/MVI_9578.MOV  \n",
            "  inflating: Adjectives/6. Ugly/MVI_9579.MOV  \n",
            "  inflating: Adjectives/6. Ugly/MVI_9844.MOV  \n",
            "  inflating: Adjectives/6. Ugly/MVI_9845.MOV  \n",
            "  inflating: Adjectives/6. Ugly/MVI_9846.MOV  \n",
            "  inflating: Adjectives/6. Ugly/MVI_9847.MOV  \n",
            "   creating: Adjectives/7. Deaf/\n",
            "  inflating: Adjectives/7. Deaf/MVI_9580.MOV  \n",
            "  inflating: Adjectives/7. Deaf/MVI_9581.MOV  \n",
            "  inflating: Adjectives/7. Deaf/MVI_9582.MOV  \n",
            "  inflating: Adjectives/7. Deaf/MVI_9583.MOV  \n",
            "  inflating: Adjectives/7. Deaf/MVI_9848.MOV  \n",
            "  inflating: Adjectives/7. Deaf/MVI_9849.MOV  \n",
            "  inflating: Adjectives/7. Deaf/MVI_9850.MOV  \n",
            "  inflating: Adjectives/7. Deaf/MVI_9851.MOV  \n",
            "   creating: Adjectives/8. Blind/\n",
            "  inflating: Adjectives/8. Blind/MVI_9584.MOV  \n",
            "  inflating: Adjectives/8. Blind/MVI_9585.MOV  \n",
            "  inflating: Adjectives/8. Blind/MVI_9586.MOV  \n",
            "  inflating: Adjectives/8. Blind/MVI_9587.MOV  \n",
            "  inflating: Adjectives/8. Blind/MVI_9852.MOV  \n",
            "  inflating: Adjectives/8. Blind/MVI_9853.MOV  \n",
            "  inflating: Adjectives/8. Blind/MVI_9854.MOV  \n",
            "  inflating: Adjectives/8. Blind/MVI_9855.MOV  \n"
          ]
        }
      ],
      "source": [
        "! unzip Greetings_1of2.zip\n",
        "! unzip Greetings_2of2.zip\n",
        "!unzip Pronouns_1of2.zip\n",
        "!unzip Pronouns_2of2.zip\n",
        "!unzip Adjectives_1of8.zip"
      ]
    },
    {
      "cell_type": "code",
      "execution_count": null,
      "metadata": {
        "id": "za4vjLM3q-Yi"
      },
      "outputs": [],
      "source": [
        "import shutil\n",
        "shutil.rmtree(\"/content/Pronouns/40. I\")\n",
        "shutil.rmtree(\"/content/Pronouns/46. you (plural)\")\n",
        "shutil.rmtree(\"/content/Pronouns/43. she\")\n",
        "shutil.rmtree(\"/content/Pronouns/45. we\")"
      ]
    },
    {
      "cell_type": "code",
      "execution_count": null,
      "metadata": {
        "id": "b-LhMPJqz-NA"
      },
      "outputs": [],
      "source": [
        "shutil.rmtree(\"/content/Greetings/53. Good evening\")\n",
        "shutil.rmtree(\"/content/Greetings/54. Good night\")\n",
        "shutil.rmtree(\"/content/Greetings/56. Pleased\")"
      ]
    },
    {
      "cell_type": "code",
      "execution_count": null,
      "metadata": {
        "id": "PC873yu80kSl"
      },
      "outputs": [],
      "source": [
        "shutil.rmtree(\"/content/Adjectives/6. Ugly\")\n",
        "shutil.rmtree(\"/content/Adjectives/7. Deaf\")\n",
        "shutil.rmtree(\"/content/Adjectives/8. Blind\")"
      ]
    },
    {
      "cell_type": "code",
      "execution_count": null,
      "metadata": {
        "id": "wJ1s5xo09Cqf"
      },
      "outputs": [],
      "source": [
        "import os\n",
        "os.makedirs(\"/content/Input\")"
      ]
    },
    {
      "cell_type": "code",
      "execution_count": null,
      "metadata": {
        "id": "7cLbYZ-j-ywH"
      },
      "outputs": [],
      "source": [
        "# shutil.rmtree(\"/content/Adjectives\")\n",
        "# shutil.rmtree(\"/content/Greetings\")\n",
        "# shutil.rmtree(\"/content/Pronouns\")\n",
        "# shutil.rmtree(\"/content/Input\")"
      ]
    },
    {
      "cell_type": "markdown",
      "metadata": {
        "id": "rtn4nzh7vOFp"
      },
      "source": [
        "### Adding our Own Data"
      ]
    },
    {
      "cell_type": "code",
      "execution_count": null,
      "metadata": {
        "id": "Y-6S46055TB5"
      },
      "outputs": [],
      "source": [
        "wordtype=[\"Greetings\",\"Pronouns\",\"Adjectives\"]\n",
        "\n",
        "for i in wordtype:\n",
        "   for dirpath,dirfile,filename in os.walk(os.path.join(\"/content\",i)):\n",
        "     if len(dirpath.split(\"/\"))==4:\n",
        "       word =\"\".join([i for i in dirpath.split(\"/\")[3] if i.isalpha() ])\n",
        "       word=word.rstrip()\n",
        "       os.rename(dirpath,\"/content/\"+dirpath.split(\"/\")[2]+\"/\"+word[0].upper()+word[1:])"
      ]
    },
    {
      "cell_type": "code",
      "execution_count": null,
      "metadata": {
        "id": "0BUhFZPhumn9"
      },
      "outputs": [],
      "source": [
        "d=['/content/Greetings',\"/content/Pronouns/\",\"/content/Adjectives\"]\n",
        "target_dir = '/content/Input'\n",
        "\n",
        "for i in d:\n",
        "    file_names = os.listdir(i)\n",
        "    for file_name in file_names:\n",
        "        shutil.move(os.path.join(i, file_name), target_dir)"
      ]
    },
    {
      "cell_type": "code",
      "execution_count": null,
      "metadata": {
        "id": "kNpgDp8bDoL4"
      },
      "outputs": [],
      "source": [
        "i=0\n",
        "for dirpath,dirfile,filename in os.walk(\"/content/realtime_data\"):\n",
        " if(i==0):\n",
        "   i+=1\n",
        "   continue\n",
        " #print(dirpath)\n",
        " #print(filename)\n",
        " target_dir = '/content/Input'+\"/\"+dirpath.split(\"/\")[-1]\n",
        " for j in filename:\n",
        "    #print(dirpath+\"/\"+j)\n",
        "    #print(target_dir)\n",
        "    shutil.copy(dirpath+\"/\"+j,target_dir)"
      ]
    },
    {
      "cell_type": "code",
      "execution_count": null,
      "metadata": {
        "id": "zVuW52qswNFT"
      },
      "outputs": [],
      "source": [
        "os.makedirs(\"/content/Output\")"
      ]
    },
    {
      "cell_type": "markdown",
      "metadata": {
        "id": "iX7WYFd3trFp"
      },
      "source": [
        "## Applying Holistic Model on Video and Resizing it."
      ]
    },
    {
      "cell_type": "code",
      "execution_count": null,
      "metadata": {
        "colab": {
          "base_uri": "https://localhost:8080/"
        },
        "id": "fGZAzN8Uwtxy",
        "outputId": "e98ddf59-fa25-47f2-bf26-364a2d2e10aa"
      },
      "outputs": [
        {
          "name": "stdout",
          "output_type": "stream",
          "text": [
            "/content/Input/Howareyou/MVI_9986.MOV\n",
            "/content/Input/Howareyou/MVI_9921.MOV\n",
            "/content/Input/Howareyou/MVI_0033.MOV\n",
            "/content/Input/Howareyou/MVI_0034.MOV\n",
            "/content/Input/Howareyou/MVI_0042.MOV\n",
            "/content/Input/Howareyou/MVI_9962.MOV\n",
            "/content/Input/Howareyou/MVI_0093.MOV\n",
            "/content/Input/Howareyou/MVI_0035.MOV\n",
            "/content/Input/Howareyou/MVI_0041.MOV\n",
            "/content/Input/Howareyou/MVI_0092.MOV\n",
            "/content/Input/Howareyou/MVI_0036.MOV\n",
            "/content/Input/Howareyou/MVI_9961.MOV\n",
            "/content/Input/Howareyou/MVI_9960.MOV\n",
            "/content/Input/Howareyou/MVI_0040.MOV\n",
            "/content/Input/Howareyou/MVI_9918.MOV\n",
            "/content/Input/Howareyou/MVI_9919.MOV\n",
            "/content/Input/Howareyou/MVI_9987.MOV\n",
            "/content/Input/Howareyou/MVI_0094.MOV\n",
            "/content/Input/Howareyou/MVI_9920.MOV\n",
            "/content/Input/Howareyou/MVI_9985.MOV\n",
            "/content/Input/Howareyou/MVI_9959.MOV\n",
            "/content/Input/You/MVI_0015.MOV\n",
            "/content/Input/You/MVI_9998.MOV\n",
            "/content/Input/You/MVI_9923.MOV\n",
            "/content/Input/You/MVI_9925.MOV\n",
            "/content/Input/You/MVI_0017.MOV\n",
            "/content/Input/You/MVI_9885.MOV\n",
            "/content/Input/You/MVI_9962.MOV\n",
            "/content/Input/You/MVI_9997.MOV\n",
            "/content/Input/You/MVI_0016.MOV\n",
            "/content/Input/You/MVI_9999.MOV\n",
            "/content/Input/You/MVI_9924.MOV\n",
            "/content/Input/You/MVI_9961.MOV\n",
            "/content/Input/You/MVI_9960.MOV\n",
            "/content/Input/You/MVI_9888.MOV\n",
            "/content/Input/You/MVI_0067.MOV\n",
            "/content/Input/You/MVI_9886.MOV\n",
            "/content/Input/You/MVI_9926.MOV\n",
            "/content/Input/You/MVI_0068.MOV\n",
            "/content/Input/You/MVI_9887.MOV\n",
            "/content/Input/You/MVI_9996.MOV\n",
            "/content/Input/You/MVI_0069.MOV\n",
            "/content/Input/Thankyou/MVI_0063.MOV\n",
            "/content/Input/Thankyou/MVI_9986.MOV\n",
            "/content/Input/Thankyou/MVI_9951.MOV\n",
            "/content/Input/Thankyou/MVI_0112.MOV\n",
            "/content/Input/Thankyou/MVI_0007.MOV\n",
            "/content/Input/Thankyou/MVI_0061.MOV\n",
            "/content/Input/Thankyou/MVI_0062.MOV\n",
            "/content/Input/Thankyou/MVI_9984.MOV\n",
            "/content/Input/Thankyou/MVI_0058.MOV\n",
            "/content/Input/Thankyou/MVI_0006.MOV\n",
            "/content/Input/Thankyou/MVI_9987.MOV\n",
            "/content/Input/Thankyou/MVI_9949.MOV\n",
            "/content/Input/Thankyou/MVI_0111.MOV\n",
            "/content/Input/Thankyou/MVI_0060_.MOV\n",
            "/content/Input/Thankyou/MVI_0059.MOV\n",
            "/content/Input/Thankyou/MVI_9985.MOV\n",
            "/content/Input/Thankyou/MVI_0060.MOV\n",
            "/content/Input/Thankyou/MVI_9948.MOV\n",
            "/content/Input/Thankyou/MVI_9950.MOV\n",
            "/content/Input/Thankyou/MVI_0008.MOV\n",
            "/content/Input/Thankyou/MVI_0113.MOV\n",
            "/content/Input/GoodMorning/MVI_9992.MOV\n",
            "/content/Input/GoodMorning/MVI_9968.MOV\n",
            "/content/Input/GoodMorning/MVI_0046.MOV\n",
            "/content/Input/GoodMorning/MVI_0042.MOV\n",
            "/content/Input/GoodMorning/MVI_0098.MOV\n",
            "/content/Input/GoodMorning/MVI_9934.MOV\n",
            "/content/Input/GoodMorning/MVI_9970.MOV\n",
            "/content/Input/GoodMorning/MVI_9932.MOV\n",
            "/content/Input/GoodMorning/MVI_0048.MOV\n",
            "/content/Input/GoodMorning/MVI_0043.MOV\n",
            "/content/Input/GoodMorning/MVI_0047.MOV\n",
            "/content/Input/GoodMorning/MVI_9933.MOV\n",
            "/content/Input/GoodMorning/MVI_0100.MOV\n",
            "/content/Input/GoodMorning/MVI_9935.MOV\n",
            "/content/Input/GoodMorning/MVI_9991.MOV\n",
            "/content/Input/GoodMorning/MVI_9971.MOV\n",
            "/content/Input/GoodMorning/MVI_0044.MOV\n",
            "/content/Input/GoodMorning/MVI_9969.MOV\n",
            "/content/Input/GoodMorning/MVI_9993.MOV\n",
            "/content/Input/GoodMorning/MVI_0099.MOV\n",
            "/content/Input/GoodMorning/MVI_0045.MOV\n",
            "/content/Input/Hello/MVI_9915.MOV\n",
            "/content/Input/Hello/MVI_9916.MOV\n",
            "/content/Input/Hello/MVI_9954.MOV\n",
            "/content/Input/Hello/MVI_0030.MOV\n",
            "/content/Input/Hello/MVI_9957.MOV\n",
            "/content/Input/Hello/MVI_9917.MOV\n",
            "/content/Input/Hello/MVI_0029.MOV\n",
            "/content/Input/Hello/MVI_0032.MOV\n",
            "/content/Input/Hello/MVI_0038.MOV\n",
            "/content/Input/Hello/MVI_9983.MOV\n",
            "/content/Input/Hello/MVI_0039.MOV\n",
            "/content/Input/Hello/MVI_9984.MOV\n",
            "/content/Input/Hello/MVI_0037.MOV\n",
            "/content/Input/Hello/MVI_9955.MOV\n",
            "/content/Input/Hello/MVI_9982.MOV\n",
            "/content/Input/Hello/MVI_0089.MOV\n",
            "/content/Input/Hello/MVI_9956.MOV\n",
            "/content/Input/Hello/MVI_0090.MOV\n",
            "/content/Input/Hello/MVI_9914.MOV\n",
            "/content/Input/Hello/MVI_0091.MOV\n",
            "/content/Input/Hello/MVI_0031.MOV\n",
            "/content/Input/It/MVI_0013.MOV\n",
            "/content/Input/It/MVI_0015.MOV\n",
            "/content/Input/It/MVI_9936.MOV\n",
            "/content/Input/It/MVI_0016.MOV\n",
            "/content/Input/It/MVI_0025.MOV\n",
            "/content/Input/It/MVI_9970.MOV\n",
            "/content/Input/It/MVI_0078.MOV\n",
            "/content/Input/It/MVI_0076.MOV\n",
            "/content/Input/It/MVI_0024.MOV\n",
            "/content/Input/It/MVI_0026.MOV\n",
            "/content/Input/It/MVI_9900.MOV\n",
            "/content/Input/It/MVI_9971.MOV\n",
            "/content/Input/It/MVI_9897.MOV\n",
            "/content/Input/It/MVI_9969.MOV\n",
            "/content/Input/It/MVI_9937.MOV\n",
            "/content/Input/It/MVI_9898.MOV\n",
            "/content/Input/It/MVI_0077.MOV\n",
            "/content/Input/It/MVI_9938.MOV\n",
            "/content/Input/It/MVI_0014.MOV\n",
            "/content/Input/It/MVI_9939.MOV\n",
            "/content/Input/It/MVI_9899.MOV\n",
            "/content/Input/He/MVI_9892.MOV\n",
            "/content/Input/He/MVI_0005.MOV\n",
            "/content/Input/He/MVI_0018.MOV\n",
            "/content/Input/He/MVI_9930.MOV\n",
            "/content/Input/He/MVI_9964.MOV\n",
            "/content/Input/He/MVI_9890.MOV\n",
            "/content/Input/He/MVI_0071.MOV\n",
            "/content/Input/He/MVI_9965.MOV\n",
            "/content/Input/He/MVI_0072.MOV\n",
            "/content/Input/He/MVI_0007.MOV\n",
            "/content/Input/He/MVI_9889.MOV\n",
            "/content/Input/He/MVI_9928.MOV\n",
            "/content/Input/He/MVI_0070.MOV\n",
            "/content/Input/He/MVI_0006.MOV\n",
            "/content/Input/He/MVI_9963.MOV\n",
            "/content/Input/He/MVI_0019.MOV\n",
            "/content/Input/He/MVI_0020.MOV\n",
            "/content/Input/He/MVI_9891.MOV\n",
            "/content/Input/He/MVI_9931.MOV\n",
            "/content/Input/He/MVI_0008.MOV\n",
            "/content/Input/He/MVI_9927.MOV\n",
            "/content/Input/Loud/MVI_5336.MOV\n",
            "/content/Input/Loud/MVI_5178.MOV\n",
            "/content/Input/Loud/MVI_9450.MOV\n",
            "/content/Input/Loud/MVI_9535.MOV\n",
            "/content/Input/Loud/MVI_9448.MOV\n",
            "/content/Input/Loud/MVI_5337.MOV\n",
            "/content/Input/Loud/MVI_9536.MOV\n",
            "/content/Input/Loud/MVI_5257.MOV\n",
            "/content/Input/Loud/MVI_9290.MOV\n",
            "/content/Input/Loud/MVI_9291.MOV\n",
            "/content/Input/Loud/MVI_9369.MOV\n",
            "/content/Input/Loud/MVI_9370.MOV\n",
            "/content/Input/Loud/MVI_5259.MOV\n",
            "/content/Input/Loud/MVI_5177.MOV\n",
            "/content/Input/Loud/MVI_5335.MOV\n",
            "/content/Input/Loud/MVI_5258.MOV\n",
            "/content/Input/Loud/MVI_9289.MOV\n",
            "/content/Input/Loud/MVI_5179.MOV\n",
            "/content/Input/Loud/MVI_9449.MOV\n",
            "/content/Input/Loud/MVI_9534.MOV\n",
            "/content/Input/Loud/MVI_9368.MOV\n",
            "/content/Input/Quiet/MVI_9451.MOV\n",
            "/content/Input/Quiet/MVI_9294.MOV\n",
            "/content/Input/Quiet/MVI_5340.MOV\n",
            "/content/Input/Quiet/MVI_9372.MOV\n",
            "/content/Input/Quiet/MVI_5339.MOV\n",
            "/content/Input/Quiet/MVI_9293.MOV\n",
            "/content/Input/Quiet/MVI_5338.MOV\n",
            "/content/Input/Quiet/MVI_5181.MOV\n",
            "/content/Input/Quiet/MVI_5260.MOV\n",
            "/content/Input/Quiet/MVI_9292.MOV\n",
            "/content/Input/Quiet/MVI_9452.MOV\n",
            "/content/Input/Quiet/MVI_5182.MOV\n",
            "/content/Input/Quiet/MVI_5262.MOV\n",
            "/content/Input/Quiet/MVI_9537.MOV\n",
            "/content/Input/Quiet/MVI_5180.MOV\n",
            "/content/Input/Quiet/MVI_9371.MOV\n",
            "/content/Input/Quiet/MVI_9373.MOV\n",
            "/content/Input/Quiet/MVI_5261.MOV\n",
            "/content/Input/Quiet/MVI_9538.MOV\n",
            "/content/Input/Quiet/MVI_9453.MOV\n",
            "/content/Input/Quiet/MVI_9539.MOV\n",
            "/content/Input/Alright/MVI_9989.MOV\n",
            "/content/Input/Alright/MVI_9923.MOV\n",
            "/content/Input/Alright/MVI_9925.MOV\n",
            "/content/Input/Alright/MVI_0096.MOV\n",
            "/content/Input/Alright/MVI_9988.MOV\n",
            "/content/Input/Alright/MVI_9964.MOV\n",
            "/content/Input/Alright/MVI_9965.MOV\n",
            "/content/Input/Alright/MVI_9924.MOV\n",
            "/content/Input/Alright/MVI_0040.MOV\n",
            "/content/Input/Alright/MVI_0038.MOV\n",
            "/content/Input/Alright/MVI_0095.MOV\n",
            "/content/Input/Alright/MVI_0039.MOV\n",
            "/content/Input/Alright/MVI_0097.MOV\n",
            "/content/Input/Alright/MVI_0037.MOV\n",
            "/content/Input/Alright/MVI_9963.MOV\n",
            "/content/Input/Alright/MVI_0043.MOV\n",
            "/content/Input/Alright/MVI_9990.MOV\n",
            "/content/Input/Alright/MVI_9926.MOV\n",
            "/content/Input/Alright/MVI_0044.MOV\n",
            "/content/Input/Alright/MVI_0045.MOV\n",
            "/content/Input/Alright/MVI_9966.MOV\n",
            "/content/Input/Goodafternoon/MVI_0046.MOV\n",
            "/content/Input/Goodafternoon/MVI_0103.MOV\n",
            "/content/Input/Goodafternoon/MVI_0101.MOV\n",
            "/content/Input/Goodafternoon/MVI_9974.MOV\n",
            "/content/Input/Goodafternoon/MVI_0102.MOV\n",
            "/content/Input/Goodafternoon/MVI_9936.MOV\n",
            "/content/Input/Goodafternoon/MVI_0051.MOV\n",
            "/content/Input/Goodafternoon/MVI_0049.MOV\n",
            "/content/Input/Goodafternoon/MVI_0050.MOV\n",
            "/content/Input/Goodafternoon/MVI_9975.MOV\n",
            "/content/Input/Goodafternoon/MVI_9995.MOV\n",
            "/content/Input/Goodafternoon/MVI_9972.MOV\n",
            "/content/Input/Goodafternoon/MVI_0048.MOV\n",
            "/content/Input/Goodafternoon/MVI_0050_ (2).MOV\n",
            "/content/Input/Goodafternoon/MVI_0047.MOV\n",
            "/content/Input/Goodafternoon/MVI_9973.MOV\n",
            "/content/Input/Goodafternoon/MVI_9937.MOV\n",
            "/content/Input/Goodafternoon/MVI_9994.MOV\n",
            "/content/Input/Goodafternoon/MVI_0050_ (1).MOV\n",
            "/content/Input/Goodafternoon/MVI_9938.MOV\n",
            "/content/Input/Goodafternoon/MVI_9939.MOV\n",
            "/content/Input/Goodafternoon/MVI_9996.MOV\n",
            "/content/Input/Happy/MVI_5183.MOV\n",
            "/content/Input/Happy/MVI_5184.MOV\n",
            "/content/Input/Happy/MVI_9295.MOV\n",
            "/content/Input/Happy/MVI_9542.MOV\n",
            "/content/Input/Happy/MVI_5264.MOV\n",
            "/content/Input/Happy/MVI_5343.MOV\n",
            "/content/Input/Happy/MVI_5342.MOV\n",
            "/content/Input/Happy/MVI_5265.MOV\n",
            "/content/Input/Happy/MVI_9455.MOV\n",
            "/content/Input/Happy/MVI_9454.MOV\n",
            "/content/Input/Happy/MVI_9375.MOV\n",
            "/content/Input/Happy/MVI_9374.MOV\n",
            "/content/Input/Happy/MVI_5341.MOV\n",
            "/content/Input/Happy/MVI_9376.MOV\n",
            "/content/Input/Happy/MVI_9541.MOV\n",
            "/content/Input/Happy/MVI_9456.MOV\n",
            "/content/Input/Happy/MVI_9540.MOV\n",
            "/content/Input/Happy/MVI_5185.MOV\n",
            "/content/Input/Happy/MVI_9296.MOV\n",
            "/content/Input/Happy/MVI_5263.MOV\n",
            "/content/Input/Happy/MVI_9297.MOV\n",
            "/content/Input/Sad/MVI_9722.MOV\n",
            "/content/Input/Sad/MVI_9567.MOV\n",
            "/content/Input/Sad/MVI_9568.MOV\n",
            "/content/Input/Sad/MVI_9720.MOV\n",
            "/content/Input/Sad/MVI_9565.MOV\n",
            "/content/Input/Sad/MVI_9719.MOV\n",
            "/content/Input/Sad/MVI_9566.MOV\n",
            "/content/Input/Sad/MVI_9721.MOV\n",
            "/content/Input/Beautiful/MVI_9572.MOV\n",
            "/content/Input/Beautiful/MVI_9571.MOV\n",
            "/content/Input/Beautiful/MVI_9724.MOV\n",
            "/content/Input/Beautiful/MVI_9570.MOV\n",
            "/content/Input/Beautiful/MVI_9725.MOV\n",
            "/content/Input/Beautiful/MVI_9726.MOV\n",
            "/content/Input/Beautiful/MVI_9723.MOV\n",
            "/content/Input/Beautiful/MVI_9569.MOV\n",
            "/content/Input/Beautiful/Extra/MVI_9573.MOV\n",
            "/content/Input/They/MVI_0033.MOV\n",
            "/content/Input/They/MVI_0034.MOV\n",
            "/content/Input/They/MVI_9952.MOV\n",
            "/content/Input/They/MVI_0035.MOV\n",
            "/content/Input/They/MVI_9951.MOV\n",
            "/content/Input/They/MVI_9979.MOV\n",
            "/content/Input/They/MVI_0025.MOV\n",
            "/content/Input/They/MVI_9913.MOV\n",
            "/content/Input/They/MVI_0028.MOV\n",
            "/content/Input/They/MVI_9953.MOV\n",
            "/content/Input/They/MVI_9980.MOV\n",
            "/content/Input/They/MVI_9911.MOV\n",
            "/content/Input/They/MVI_0026.MOV\n",
            "/content/Input/They/MVI_0027.MOV\n",
            "/content/Input/They/MVI_9910.MOV\n",
            "/content/Input/They/MVI_0087.MOV\n",
            "/content/Input/They/MVI_9950.MOV\n",
            "/content/Input/They/MVI_9912.MOV\n",
            "/content/Input/They/MVI_9981.MOV\n",
            "/content/Input/They/MVI_0088.MOV\n",
            "/content/Input/They/MVI_0085.MOV\n",
            "/content/Input/Beautiful/Extra/MVI_9573.MOV\n"
          ]
        }
      ],
      "source": [
        "for dirpathed,dirnamed,file in os.walk(\"/content/Input\"):\n",
        "   z=0\n",
        "   for class_ in dirnamed:\n",
        "        for dirpath,dirname,files in os.walk(os.path.join(dirpathed,class_)):\n",
        "              for i in files:\n",
        "                    pather=os.path.join(dirpath,i)\n",
        "                    print(pather)"
      ]
    },
    {
      "cell_type": "code",
      "execution_count": null,
      "metadata": {
        "id": "f24JHGkDzQ0y"
      },
      "outputs": [],
      "source": [
        "for dirpathed,dirnamed,file in os.walk(\"/content/Input\"):\n",
        "    for class_  in dirnamed:\n",
        "      os.makedirs(os.path.join(\"/content/Output\",class_))"
      ]
    },
    {
      "cell_type": "code",
      "execution_count": null,
      "metadata": {
        "colab": {
          "base_uri": "https://localhost:8080/",
          "height": 1000
        },
        "id": "l8dfI8WAWkx3",
        "outputId": "bacfe312-9ef2-4bd4-8814-0c5ef9c0c303"
      },
      "outputs": [
        {
          "name": "stdout",
          "output_type": "stream",
          "text": [
            "Collecting numpy==1.23.5\n",
            "  Downloading numpy-1.23.5-cp310-cp310-manylinux_2_17_x86_64.manylinux2014_x86_64.whl.metadata (2.3 kB)\n",
            "Downloading numpy-1.23.5-cp310-cp310-manylinux_2_17_x86_64.manylinux2014_x86_64.whl (17.1 MB)\n",
            "\u001b[2K   \u001b[90m━━━━━━━━━━━━━━━━━━━━━━━━━━━━━━━━━━━━━━━━\u001b[0m \u001b[32m17.1/17.1 MB\u001b[0m \u001b[31m81.0 MB/s\u001b[0m eta \u001b[36m0:00:00\u001b[0m\n",
            "\u001b[?25hInstalling collected packages: numpy\n",
            "  Attempting uninstall: numpy\n",
            "    Found existing installation: numpy 1.26.4\n",
            "    Uninstalling numpy-1.26.4:\n",
            "      Successfully uninstalled numpy-1.26.4\n",
            "\u001b[31mERROR: pip's dependency resolver does not currently take into account all the packages that are installed. This behaviour is the source of the following dependency conflicts.\n",
            "albucore 0.0.19 requires numpy>=1.24.4, but you have numpy 1.23.5 which is incompatible.\n",
            "albumentations 1.4.20 requires numpy>=1.24.4, but you have numpy 1.23.5 which is incompatible.\n",
            "bigframes 1.26.0 requires numpy>=1.24.0, but you have numpy 1.23.5 which is incompatible.\n",
            "chex 0.1.87 requires numpy>=1.24.1, but you have numpy 1.23.5 which is incompatible.\n",
            "jax 0.4.33 requires numpy>=1.24, but you have numpy 1.23.5 which is incompatible.\n",
            "jaxlib 0.4.33 requires numpy>=1.24, but you have numpy 1.23.5 which is incompatible.\n",
            "xarray 2024.10.0 requires numpy>=1.24, but you have numpy 1.23.5 which is incompatible.\u001b[0m\u001b[31m\n",
            "\u001b[0mSuccessfully installed numpy-1.23.5\n"
          ]
        },
        {
          "data": {
            "application/vnd.colab-display-data+json": {
              "id": "d8b288e0704240e58e2d6b9a9c255571",
              "pip_warning": {
                "packages": [
                  "numpy"
                ]
              }
            }
          },
          "metadata": {},
          "output_type": "display_data"
        },
        {
          "name": "stdout",
          "output_type": "stream",
          "text": [
            "Requirement already satisfied: matplotlib in /usr/local/lib/python3.10/dist-packages (3.8.0)\n",
            "Requirement already satisfied: contourpy>=1.0.1 in /usr/local/lib/python3.10/dist-packages (from matplotlib) (1.3.1)\n",
            "Requirement already satisfied: cycler>=0.10 in /usr/local/lib/python3.10/dist-packages (from matplotlib) (0.12.1)\n",
            "Requirement already satisfied: fonttools>=4.22.0 in /usr/local/lib/python3.10/dist-packages (from matplotlib) (4.54.1)\n",
            "Requirement already satisfied: kiwisolver>=1.0.1 in /usr/local/lib/python3.10/dist-packages (from matplotlib) (1.4.7)\n",
            "Requirement already satisfied: numpy<2,>=1.21 in /usr/local/lib/python3.10/dist-packages (from matplotlib) (1.23.5)\n",
            "Requirement already satisfied: packaging>=20.0 in /usr/local/lib/python3.10/dist-packages (from matplotlib) (24.2)\n",
            "Requirement already satisfied: pillow>=6.2.0 in /usr/local/lib/python3.10/dist-packages (from matplotlib) (11.0.0)\n",
            "Requirement already satisfied: pyparsing>=2.3.1 in /usr/local/lib/python3.10/dist-packages (from matplotlib) (3.2.0)\n",
            "Requirement already satisfied: python-dateutil>=2.7 in /usr/local/lib/python3.10/dist-packages (from matplotlib) (2.8.2)\n",
            "Requirement already satisfied: six>=1.5 in /usr/local/lib/python3.10/dist-packages (from python-dateutil>=2.7->matplotlib) (1.16.0)\n",
            "Traceback (most recent call last):\n",
            "  File \"/usr/local/lib/python3.10/dist-packages/pip/_vendor/pkg_resources/__init__.py\", line 3070, in _dep_map\n",
            "    return self.__dep_map\n",
            "  File \"/usr/local/lib/python3.10/dist-packages/pip/_vendor/pkg_resources/__init__.py\", line 2863, in __getattr__\n",
            "    raise AttributeError(attr)\n",
            "AttributeError: _DistInfoDistribution__dep_map\n",
            "\n",
            "During handling of the above exception, another exception occurred:\n",
            "\n",
            "Traceback (most recent call last):\n",
            "  File \"/usr/local/lib/python3.10/dist-packages/pip/_internal/cli/base_command.py\", line 179, in exc_logging_wrapper\n",
            "    status = run_func(*args)\n",
            "  File \"/usr/local/lib/python3.10/dist-packages/pip/_internal/cli/req_command.py\", line 67, in wrapper\n",
            "    return func(self, options, args)\n",
            "  File \"/usr/local/lib/python3.10/dist-packages/pip/_internal/commands/install.py\", line 447, in run\n",
            "    conflicts = self._determine_conflicts(to_install)\n",
            "  File \"/usr/local/lib/python3.10/dist-packages/pip/_internal/commands/install.py\", line 578, in _determine_conflicts\n",
            "    return check_install_conflicts(to_install)\n",
            "  File \"/usr/local/lib/python3.10/dist-packages/pip/_internal/operations/check.py\", line 101, in check_install_conflicts\n",
            "    package_set, _ = create_package_set_from_installed()\n",
            "  File \"/usr/local/lib/python3.10/dist-packages/pip/_internal/operations/check.py\", line 42, in create_package_set_from_installed\n",
            "    dependencies = list(dist.iter_dependencies())\n",
            "  File \"/usr/local/lib/python3.10/dist-packages/pip/_internal/metadata/pkg_resources.py\", line 247, in iter_dependencies\n",
            "    return self._dist.requires(extras)\n",
            "  File \"/usr/local/lib/python3.10/dist-packages/pip/_vendor/pkg_resources/__init__.py\", line 2786, in requires\n",
            "    dm = self._dep_map\n",
            "  File \"/usr/local/lib/python3.10/dist-packages/pip/_vendor/pkg_resources/__init__.py\", line 3072, in _dep_map\n",
            "    self.__dep_map = self._compute_dependencies()\n",
            "  File \"/usr/local/lib/python3.10/dist-packages/pip/_vendor/pkg_resources/__init__.py\", line 3094, in _compute_dependencies\n",
            "    dm[s_extra] = [r for r in reqs_for_extra(extra) if r not in common]\n",
            "  File \"/usr/local/lib/python3.10/dist-packages/pip/_vendor/pkg_resources/__init__.py\", line 3094, in <listcomp>\n",
            "    dm[s_extra] = [r for r in reqs_for_extra(extra) if r not in common]\n",
            "  File \"/usr/local/lib/python3.10/dist-packages/pip/_vendor/pkg_resources/__init__.py\", line 3086, in reqs_for_extra\n",
            "    if not req.marker or req.marker.evaluate({'extra': extra}):\n",
            "  File \"/usr/local/lib/python3.10/dist-packages/pip/_vendor/packaging/markers.py\", line 325, in evaluate\n",
            "    return _evaluate_markers(self._markers, current_environment)\n",
            "  File \"/usr/local/lib/python3.10/dist-packages/pip/_vendor/packaging/markers.py\", line 231, in _evaluate_markers\n",
            "    return any(all(item) for item in groups)\n",
            "KeyboardInterrupt\n",
            "\n",
            "During handling of the above exception, another exception occurred:\n",
            "\n",
            "Traceback (most recent call last):\n",
            "  File \"/usr/lib/python3.10/logging/__init__.py\", line 1732, in isEnabledFor\n",
            "    return self._cache[level]\n",
            "KeyError: 50\n",
            "\n",
            "During handling of the above exception, another exception occurred:\n",
            "\n",
            "Traceback (most recent call last):\n",
            "  File \"/usr/local/bin/pip3\", line 8, in <module>\n",
            "    sys.exit(main())\n",
            "  File \"/usr/local/lib/python3.10/dist-packages/pip/_internal/cli/main.py\", line 80, in main\n",
            "    return command.main(cmd_args)\n",
            "  File \"/usr/local/lib/python3.10/dist-packages/pip/_internal/cli/base_command.py\", line 100, in main\n",
            "    return self._main(args)\n",
            "  File \"/usr/local/lib/python3.10/dist-packages/pip/_internal/cli/base_command.py\", line 232, in _main\n",
            "    return run(options, args)\n",
            "  File \"/usr/local/lib/python3.10/dist-packages/pip/_internal/cli/base_command.py\", line 215, in exc_logging_wrapper\n",
            "    logger.critical(\"Operation cancelled by user\")\n",
            "  File \"/usr/lib/python3.10/logging/__init__.py\", line 1523, in critical\n",
            "    if self.isEnabledFor(CRITICAL):\n",
            "  File \"/usr/lib/python3.10/logging/__init__.py\", line 1734, in isEnabledFor\n",
            "    _acquireLock()\n",
            "  File \"/usr/lib/python3.10/logging/__init__.py\", line 219, in _acquireLock\n",
            "    def _acquireLock():\n",
            "KeyboardInterrupt\n",
            "^C\n"
          ]
        }
      ],
      "source": [
        "!pip install --upgrade numpy==1.23.5\n",
        "!pip install matplotlib"
      ]
    },
    {
      "cell_type": "code",
      "execution_count": null,
      "metadata": {
        "colab": {
          "base_uri": "https://localhost:8080/"
        },
        "id": "QoePL0VPw9tl",
        "outputId": "0b4f2abc-87ba-4fd7-d6ca-c87e866842f7"
      },
      "outputs": [
        {
          "name": "stdout",
          "output_type": "stream",
          "text": [
            "..1 th Video..\n",
            "..2 th Video..\n",
            "..3 th Video..\n",
            "..4 th Video..\n",
            "..5 th Video..\n",
            "..6 th Video..\n",
            "..7 th Video..\n",
            "..8 th Video..\n",
            "..9 th Video..\n",
            "..10 th Video..\n",
            "..11 th Video..\n",
            "..12 th Video..\n",
            "..13 th Video..\n",
            "..14 th Video..\n",
            "..15 th Video..\n",
            "..16 th Video..\n",
            "..17 th Video..\n",
            "..18 th Video..\n",
            "..19 th Video..\n",
            "..20 th Video..\n",
            "..21 th Video..\n",
            ".............Howareyou over..........\n",
            "..22 th Video..\n",
            "..23 th Video..\n",
            "..24 th Video..\n",
            "..25 th Video..\n",
            "..26 th Video..\n",
            "..27 th Video..\n",
            "..28 th Video..\n",
            "..29 th Video..\n",
            "..30 th Video..\n",
            "..31 th Video..\n",
            "..32 th Video..\n",
            "..33 th Video..\n",
            "..34 th Video..\n",
            "..35 th Video..\n",
            "..36 th Video..\n",
            "..37 th Video..\n",
            "..38 th Video..\n",
            "..39 th Video..\n",
            "..40 th Video..\n",
            "..41 th Video..\n",
            "..42 th Video..\n",
            ".............You over..........\n",
            "..43 th Video..\n",
            "..44 th Video..\n",
            "..45 th Video..\n",
            "..46 th Video..\n",
            "..47 th Video..\n",
            "..48 th Video..\n",
            "..49 th Video..\n",
            "..50 th Video..\n",
            "..51 th Video..\n",
            "..52 th Video..\n",
            "..53 th Video..\n",
            "..54 th Video..\n",
            "..55 th Video..\n",
            "..56 th Video..\n",
            "..57 th Video..\n",
            "..58 th Video..\n",
            "..59 th Video..\n",
            "..60 th Video..\n",
            "..61 th Video..\n",
            "..62 th Video..\n",
            "..63 th Video..\n",
            ".............Thankyou over..........\n",
            "..64 th Video..\n",
            "..65 th Video..\n",
            "..66 th Video..\n",
            "..67 th Video..\n",
            "..68 th Video..\n",
            "..69 th Video..\n",
            "..70 th Video..\n",
            "..71 th Video..\n",
            "..72 th Video..\n",
            "..73 th Video..\n",
            "..74 th Video..\n",
            "..75 th Video..\n",
            "..76 th Video..\n",
            "..77 th Video..\n",
            "..78 th Video..\n",
            "..79 th Video..\n",
            "..80 th Video..\n",
            "..81 th Video..\n",
            "..82 th Video..\n",
            "..83 th Video..\n",
            "..84 th Video..\n",
            ".............GoodMorning over..........\n",
            "..85 th Video..\n",
            "..86 th Video..\n",
            "..87 th Video..\n",
            "..88 th Video..\n",
            "..89 th Video..\n",
            "..90 th Video..\n",
            "..91 th Video..\n",
            "..92 th Video..\n",
            "..93 th Video..\n",
            "..94 th Video..\n",
            "..95 th Video..\n",
            "..96 th Video..\n",
            "..97 th Video..\n",
            "..98 th Video..\n",
            "..99 th Video..\n",
            "..100 th Video..\n",
            "..101 th Video..\n",
            "..102 th Video..\n",
            "..103 th Video..\n",
            "..104 th Video..\n",
            "..105 th Video..\n",
            ".............Hello over..........\n",
            "..106 th Video..\n",
            "..107 th Video..\n",
            "..108 th Video..\n",
            "..109 th Video..\n",
            "..110 th Video..\n",
            "..111 th Video..\n",
            "..112 th Video..\n",
            "..113 th Video..\n",
            "..114 th Video..\n",
            "..115 th Video..\n",
            "..116 th Video..\n",
            "..117 th Video..\n",
            "..118 th Video..\n",
            "..119 th Video..\n",
            "..120 th Video..\n",
            "..121 th Video..\n",
            "..122 th Video..\n",
            "..123 th Video..\n",
            "..124 th Video..\n",
            "..125 th Video..\n",
            "..126 th Video..\n",
            ".............It over..........\n",
            "..127 th Video..\n",
            "..128 th Video..\n",
            "..129 th Video..\n",
            "..130 th Video..\n",
            "..131 th Video..\n",
            "..132 th Video..\n",
            "..133 th Video..\n",
            "..134 th Video..\n",
            "..135 th Video..\n",
            "..136 th Video..\n",
            "..137 th Video..\n",
            "..138 th Video..\n",
            "..139 th Video..\n",
            "..140 th Video..\n",
            "..141 th Video..\n",
            "..142 th Video..\n",
            "..143 th Video..\n",
            "..144 th Video..\n",
            "..145 th Video..\n",
            "..146 th Video..\n",
            "..147 th Video..\n",
            ".............He over..........\n",
            "..148 th Video..\n",
            "..149 th Video..\n",
            "..150 th Video..\n",
            "..151 th Video..\n",
            "..152 th Video..\n",
            "..153 th Video..\n",
            "..154 th Video..\n",
            "..155 th Video..\n",
            "..156 th Video..\n",
            "..157 th Video..\n",
            "..158 th Video..\n",
            "..159 th Video..\n",
            "..160 th Video..\n",
            "..161 th Video..\n",
            "..162 th Video..\n",
            "..163 th Video..\n",
            "..164 th Video..\n",
            "..165 th Video..\n",
            "..166 th Video..\n",
            "..167 th Video..\n",
            "..168 th Video..\n",
            ".............Loud over..........\n",
            "..169 th Video..\n",
            "..170 th Video..\n",
            "..171 th Video..\n",
            "..172 th Video..\n",
            "..173 th Video..\n",
            "..174 th Video..\n",
            "..175 th Video..\n",
            "..176 th Video..\n",
            "..177 th Video..\n",
            "..178 th Video..\n",
            "..179 th Video..\n",
            "..180 th Video..\n",
            "..181 th Video..\n",
            "..182 th Video..\n",
            "..183 th Video..\n",
            "..184 th Video..\n",
            "..185 th Video..\n",
            "..186 th Video..\n",
            "..187 th Video..\n",
            "..188 th Video..\n",
            "..189 th Video..\n",
            ".............Quiet over..........\n",
            "..190 th Video..\n",
            "..191 th Video..\n",
            "..192 th Video..\n",
            "..193 th Video..\n",
            "..194 th Video..\n",
            "..195 th Video..\n",
            "..196 th Video..\n",
            "..197 th Video..\n",
            "..198 th Video..\n",
            "..199 th Video..\n",
            "..200 th Video..\n",
            "..201 th Video..\n",
            "..202 th Video..\n",
            "..203 th Video..\n",
            "..204 th Video..\n",
            "..205 th Video..\n",
            "..206 th Video..\n",
            "..207 th Video..\n",
            "..208 th Video..\n",
            "..209 th Video..\n",
            "..210 th Video..\n",
            ".............Alright over..........\n",
            "..211 th Video..\n",
            "..212 th Video..\n",
            "..213 th Video..\n",
            "..214 th Video..\n",
            "..215 th Video..\n",
            "..216 th Video..\n",
            "..217 th Video..\n",
            "..218 th Video..\n",
            "..219 th Video..\n",
            "..220 th Video..\n",
            "..221 th Video..\n",
            "..222 th Video..\n",
            "..223 th Video..\n",
            "..224 th Video..\n",
            "..225 th Video..\n",
            "..226 th Video..\n",
            "..227 th Video..\n",
            "..228 th Video..\n",
            "..229 th Video..\n",
            "..230 th Video..\n",
            "..231 th Video..\n",
            "..232 th Video..\n",
            ".............Goodafternoon over..........\n",
            "..233 th Video..\n",
            "..234 th Video..\n",
            "..235 th Video..\n",
            "..236 th Video..\n",
            "..237 th Video..\n",
            "..238 th Video..\n",
            "..239 th Video..\n",
            "..240 th Video..\n",
            "..241 th Video..\n",
            "..242 th Video..\n",
            "..243 th Video..\n",
            "..244 th Video..\n",
            "..245 th Video..\n",
            "..246 th Video..\n",
            "..247 th Video..\n",
            "..248 th Video..\n",
            "..249 th Video..\n",
            "..250 th Video..\n",
            "..251 th Video..\n",
            "..252 th Video..\n",
            "..253 th Video..\n",
            ".............Happy over..........\n",
            "..254 th Video..\n",
            "..255 th Video..\n",
            "..256 th Video..\n",
            "..257 th Video..\n",
            "..258 th Video..\n",
            "..259 th Video..\n",
            "..260 th Video..\n",
            "..261 th Video..\n",
            ".............Sad over..........\n",
            "..262 th Video..\n",
            "..263 th Video..\n",
            "..264 th Video..\n",
            "..265 th Video..\n",
            "..266 th Video..\n",
            "..267 th Video..\n",
            "..268 th Video..\n",
            "..269 th Video..\n",
            "..270 th Video..\n",
            ".............Beautiful over..........\n",
            "..271 th Video..\n",
            "..272 th Video..\n",
            "..273 th Video..\n",
            "..274 th Video..\n",
            "..275 th Video..\n",
            "..276 th Video..\n",
            "..277 th Video..\n",
            "..278 th Video..\n",
            "..279 th Video..\n",
            "..280 th Video..\n",
            "..281 th Video..\n",
            "..282 th Video..\n",
            "..283 th Video..\n",
            "..284 th Video..\n",
            "..285 th Video..\n",
            "..286 th Video..\n",
            "..287 th Video..\n",
            "..288 th Video..\n",
            "..289 th Video..\n",
            "..290 th Video..\n",
            "..291 th Video..\n",
            ".............They over..........\n",
            ".............Extra over..........\n"
          ]
        }
      ],
      "source": [
        "from pipeline import video_array_maker\n",
        "import os\n",
        "import skvideo.io\n",
        "import cv2\n",
        "z=0\n",
        "for dirpathed,dirnamed,file in os.walk(\"/content/Input\"):\n",
        " for class_  in dirnamed:\n",
        "   for dirpath,dirname,files in os.walk(os.path.join(dirpathed,class_)):\n",
        "     for i in files:\n",
        "          pather=os.path.join(dirpath,i)\n",
        "          z+=1\n",
        "          print(\"..{} th Video..\".format(z))\n",
        "          video_array_maker(pather)\n",
        "   print(\".............{} over..........\".format(class_))"
      ]
    },
    {
      "cell_type": "markdown",
      "metadata": {
        "id": "8UyHatb9uUiu"
      },
      "source": [
        "## Video Augmentation"
      ]
    },
    {
      "cell_type": "code",
      "execution_count": null,
      "metadata": {
        "colab": {
          "base_uri": "https://localhost:8080/"
        },
        "id": "W9qYXjHy5OKi",
        "outputId": "b8b339c3-f6f7-45fc-f42e-6e40ff6c6e43"
      },
      "outputs": [
        {
          "data": {
            "text/plain": [
              "['Howareyou',\n",
              " 'You',\n",
              " 'Thankyou',\n",
              " 'GoodMorning',\n",
              " 'Extra',\n",
              " 'Hello',\n",
              " 'It',\n",
              " 'He',\n",
              " 'Loud',\n",
              " 'Quiet',\n",
              " 'Alright',\n",
              " 'Goodafternoon',\n",
              " 'Happy',\n",
              " 'Sad',\n",
              " 'Beautiful',\n",
              " 'They']"
            ]
          },
          "execution_count": 5,
          "metadata": {},
          "output_type": "execute_result"
        }
      ],
      "source": [
        "import glob # import the 'glob' module\n",
        "import os\n",
        "classes = [i.split(os.path.sep)[2] for i in glob.glob('./Output/*')]\n",
        "classes"
      ]
    },
    {
      "cell_type": "code",
      "execution_count": null,
      "metadata": {
        "id": "NwuXV7MUFBMH"
      },
      "outputs": [],
      "source": [
        "import tensorflow\n",
        "# ImageDataGenerator\n",
        "datagen = tensorflow.keras.preprocessing.image.ImageDataGenerator(\n",
        "        rotation_range=10, # rotation\n",
        "        width_shift_range=0.3, # horizontal shift\n",
        "        height_shift_range=0.2, # vertical shift\n",
        "        zoom_range=0.2, # zoom\n",
        "        horizontal_flip=True, # horizontal flip\n",
        "        brightness_range=[0.8,1.5]) # brightness"
      ]
    },
    {
      "cell_type": "code",
      "execution_count": null,
      "metadata": {
        "colab": {
          "base_uri": "https://localhost:8080/"
        },
        "id": "pua8lQKUFDc7",
        "outputId": "69e2129e-3b21-42ad-ccd5-f45a1d7aecb5"
      },
      "outputs": [
        {
          "name": "stdout",
          "output_type": "stream",
          "text": [
            "class Alright, validation count: 2, train count: 19\n",
            "class Beautiful, validation count: 0, train count: 9\n",
            "class Extra, validation count: 0, train count: 0\n",
            "class GoodMorning, validation count: 2, train count: 19\n",
            "class Goodafternoon, validation count: 2, train count: 20\n",
            "class Happy, validation count: 2, train count: 19\n",
            "class He, validation count: 2, train count: 19\n",
            "class Hello, validation count: 2, train count: 19\n",
            "class Howareyou, validation count: 2, train count: 19\n",
            "class It, validation count: 2, train count: 19\n",
            "class Loud, validation count: 2, train count: 19\n",
            "class Quiet, validation count: 2, train count: 19\n",
            "class Sad, validation count: 0, train count: 8\n",
            "class Thankyou, validation count: 2, train count: 19\n",
            "class They, validation count: 2, train count: 19\n",
            "class You, validation count: 2, train count: 19\n",
            "Total data: 16 classes for 265 files for train\n"
          ]
        }
      ],
      "source": [
        "from keras_video import VideoFrameGenerator\n",
        "# some global params\n",
        "SIZE = (224,224)\n",
        "CHANNELS = 3\n",
        "NBFRAME = 45\n",
        "BS = 4\n",
        "# pattern to get videos and classes\n",
        "glob_pattern='./Output/{classname}/*'\n",
        "# for data augmentation\n",
        "\n",
        "# Create video frame generator\n",
        "train = VideoFrameGenerator(\n",
        "    classes=classes,\n",
        "    glob_pattern=glob_pattern,\n",
        "    nb_frames=NBFRAME,\n",
        "    split_val=.1,\n",
        "    shuffle=True,\n",
        "    batch_size=BS,\n",
        "    target_shape=SIZE,\n",
        "    nb_channel=CHANNELS,\n",
        "    transformation=datagen,\n",
        "    use_frame_cache=False)"
      ]
    },
    {
      "cell_type": "markdown",
      "metadata": {
        "id": "wixeYaPUuilR"
      },
      "source": [
        "## Training Model"
      ]
    },
    {
      "cell_type": "code",
      "execution_count": null,
      "metadata": {
        "id": "nM1455jGkbT9"
      },
      "outputs": [],
      "source": [
        "model=None"
      ]
    },
    {
      "cell_type": "code",
      "execution_count": null,
      "metadata": {
        "id": "UWOxP7UdFJwb"
      },
      "outputs": [],
      "source": [
        "import tensorflow as tf\n",
        "mobilenet = tf.keras.applications.mobilenet.MobileNet(\n",
        "        include_top=False,\n",
        "        input_shape=(224,224,3),\n",
        "        weights='imagenet')\n",
        "    # Keep 9 layers to train\n",
        "trainable = 14\n",
        "for layer in mobilenet.layers[:-trainable]:\n",
        "    layer.trainable = False\n",
        "for layer in mobilenet.layers[-trainable:]:\n",
        "    layer.trainable = True"
      ]
    },
    {
      "cell_type": "code",
      "execution_count": null,
      "metadata": {
        "id": "untNvBnCbSlr"
      },
      "outputs": [],
      "source": []
    },
    {
      "cell_type": "code",
      "execution_count": null,
      "metadata": {
        "colab": {
          "base_uri": "https://localhost:8080/"
        },
        "id": "3NOZa1JwFMqc",
        "outputId": "8e798097-d912-4805-f5d5-1b04e33ad18e"
      },
      "outputs": [
        {
          "name": "stderr",
          "output_type": "stream",
          "text": [
            "/usr/local/lib/python3.10/dist-packages/keras/src/layers/core/wrapper.py:27: UserWarning: Do not pass an `input_shape`/`input_dim` argument to a layer. When using Sequential models, prefer using an `Input(shape)` object as the first layer in the model instead.\n",
            "  super().__init__(**kwargs)\n"
          ]
        }
      ],
      "source": [
        "import tensorflow as tf\n",
        "from tensorflow.keras.models import Sequential\n",
        "from tensorflow.keras.layers import TimeDistributed, Flatten, LSTM, Dense\n",
        "model=Sequential()\n",
        "model.add(TimeDistributed(mobilenet ,input_shape=(45,224,224,3)))\n",
        "model.add(TimeDistributed( Flatten()))\n",
        "model.add(LSTM(128, activation='relu', return_sequences=False))\n",
        "model.add(Dense(64,activation=\"relu\"))\n",
        "model.add(Dense(16,activation=\"softmax\"))\n",
        "model.compile(optimizer='adam', loss=tf.keras.losses.CategoricalCrossentropy(), metrics=[tf.keras.metrics.Accuracy()])"
      ]
    },
    {
      "cell_type": "code",
      "execution_count": null,
      "metadata": {
        "colab": {
          "base_uri": "https://localhost:8080/",
          "height": 289
        },
        "id": "biMTnRbkFPZS",
        "outputId": "0f84a346-e393-4413-cec0-b1ccd8192316"
      },
      "outputs": [
        {
          "data": {
            "text/html": [
              "<pre style=\"white-space:pre;overflow-x:auto;line-height:normal;font-family:Menlo,'DejaVu Sans Mono',consolas,'Courier New',monospace\"><span style=\"font-weight: bold\">Model: \"sequential\"</span>\n",
              "</pre>\n"
            ],
            "text/plain": [
              "\u001b[1mModel: \"sequential\"\u001b[0m\n"
            ]
          },
          "metadata": {},
          "output_type": "display_data"
        },
        {
          "data": {
            "text/html": [
              "<pre style=\"white-space:pre;overflow-x:auto;line-height:normal;font-family:Menlo,'DejaVu Sans Mono',consolas,'Courier New',monospace\">┏━━━━━━━━━━━━━━━━━━━━━━━━━━━━━━━━━━━━━━┳━━━━━━━━━━━━━━━━━━━━━━━━━━━━━┳━━━━━━━━━━━━━━━━━┓\n",
              "┃<span style=\"font-weight: bold\"> Layer (type)                         </span>┃<span style=\"font-weight: bold\"> Output Shape                </span>┃<span style=\"font-weight: bold\">         Param # </span>┃\n",
              "┡━━━━━━━━━━━━━━━━━━━━━━━━━━━━━━━━━━━━━━╇━━━━━━━━━━━━━━━━━━━━━━━━━━━━━╇━━━━━━━━━━━━━━━━━┩\n",
              "│ time_distributed (<span style=\"color: #0087ff; text-decoration-color: #0087ff\">TimeDistributed</span>)   │ (<span style=\"color: #00d7ff; text-decoration-color: #00d7ff\">None</span>, <span style=\"color: #00af00; text-decoration-color: #00af00\">45</span>, <span style=\"color: #00af00; text-decoration-color: #00af00\">7</span>, <span style=\"color: #00af00; text-decoration-color: #00af00\">7</span>, <span style=\"color: #00af00; text-decoration-color: #00af00\">1024</span>)      │       <span style=\"color: #00af00; text-decoration-color: #00af00\">3,228,864</span> │\n",
              "├──────────────────────────────────────┼─────────────────────────────┼─────────────────┤\n",
              "│ time_distributed_1 (<span style=\"color: #0087ff; text-decoration-color: #0087ff\">TimeDistributed</span>) │ (<span style=\"color: #00d7ff; text-decoration-color: #00d7ff\">None</span>, <span style=\"color: #00af00; text-decoration-color: #00af00\">45</span>, <span style=\"color: #00af00; text-decoration-color: #00af00\">50176</span>)           │               <span style=\"color: #00af00; text-decoration-color: #00af00\">0</span> │\n",
              "├──────────────────────────────────────┼─────────────────────────────┼─────────────────┤\n",
              "│ lstm (<span style=\"color: #0087ff; text-decoration-color: #0087ff\">LSTM</span>)                          │ (<span style=\"color: #00d7ff; text-decoration-color: #00d7ff\">None</span>, <span style=\"color: #00af00; text-decoration-color: #00af00\">128</span>)                 │      <span style=\"color: #00af00; text-decoration-color: #00af00\">25,756,160</span> │\n",
              "├──────────────────────────────────────┼─────────────────────────────┼─────────────────┤\n",
              "│ dense (<span style=\"color: #0087ff; text-decoration-color: #0087ff\">Dense</span>)                        │ (<span style=\"color: #00d7ff; text-decoration-color: #00d7ff\">None</span>, <span style=\"color: #00af00; text-decoration-color: #00af00\">64</span>)                  │           <span style=\"color: #00af00; text-decoration-color: #00af00\">8,256</span> │\n",
              "├──────────────────────────────────────┼─────────────────────────────┼─────────────────┤\n",
              "│ dense_1 (<span style=\"color: #0087ff; text-decoration-color: #0087ff\">Dense</span>)                      │ (<span style=\"color: #00d7ff; text-decoration-color: #00d7ff\">None</span>, <span style=\"color: #00af00; text-decoration-color: #00af00\">16</span>)                  │           <span style=\"color: #00af00; text-decoration-color: #00af00\">1,040</span> │\n",
              "└──────────────────────────────────────┴─────────────────────────────┴─────────────────┘\n",
              "</pre>\n"
            ],
            "text/plain": [
              "┏━━━━━━━━━━━━━━━━━━━━━━━━━━━━━━━━━━━━━━┳━━━━━━━━━━━━━━━━━━━━━━━━━━━━━┳━━━━━━━━━━━━━━━━━┓\n",
              "┃\u001b[1m \u001b[0m\u001b[1mLayer (type)                        \u001b[0m\u001b[1m \u001b[0m┃\u001b[1m \u001b[0m\u001b[1mOutput Shape               \u001b[0m\u001b[1m \u001b[0m┃\u001b[1m \u001b[0m\u001b[1m        Param #\u001b[0m\u001b[1m \u001b[0m┃\n",
              "┡━━━━━━━━━━━━━━━━━━━━━━━━━━━━━━━━━━━━━━╇━━━━━━━━━━━━━━━━━━━━━━━━━━━━━╇━━━━━━━━━━━━━━━━━┩\n",
              "│ time_distributed (\u001b[38;5;33mTimeDistributed\u001b[0m)   │ (\u001b[38;5;45mNone\u001b[0m, \u001b[38;5;34m45\u001b[0m, \u001b[38;5;34m7\u001b[0m, \u001b[38;5;34m7\u001b[0m, \u001b[38;5;34m1024\u001b[0m)      │       \u001b[38;5;34m3,228,864\u001b[0m │\n",
              "├──────────────────────────────────────┼─────────────────────────────┼─────────────────┤\n",
              "│ time_distributed_1 (\u001b[38;5;33mTimeDistributed\u001b[0m) │ (\u001b[38;5;45mNone\u001b[0m, \u001b[38;5;34m45\u001b[0m, \u001b[38;5;34m50176\u001b[0m)           │               \u001b[38;5;34m0\u001b[0m │\n",
              "├──────────────────────────────────────┼─────────────────────────────┼─────────────────┤\n",
              "│ lstm (\u001b[38;5;33mLSTM\u001b[0m)                          │ (\u001b[38;5;45mNone\u001b[0m, \u001b[38;5;34m128\u001b[0m)                 │      \u001b[38;5;34m25,756,160\u001b[0m │\n",
              "├──────────────────────────────────────┼─────────────────────────────┼─────────────────┤\n",
              "│ dense (\u001b[38;5;33mDense\u001b[0m)                        │ (\u001b[38;5;45mNone\u001b[0m, \u001b[38;5;34m64\u001b[0m)                  │           \u001b[38;5;34m8,256\u001b[0m │\n",
              "├──────────────────────────────────────┼─────────────────────────────┼─────────────────┤\n",
              "│ dense_1 (\u001b[38;5;33mDense\u001b[0m)                      │ (\u001b[38;5;45mNone\u001b[0m, \u001b[38;5;34m16\u001b[0m)                  │           \u001b[38;5;34m1,040\u001b[0m │\n",
              "└──────────────────────────────────────┴─────────────────────────────┴─────────────────┘\n"
            ]
          },
          "metadata": {},
          "output_type": "display_data"
        },
        {
          "data": {
            "text/html": [
              "<pre style=\"white-space:pre;overflow-x:auto;line-height:normal;font-family:Menlo,'DejaVu Sans Mono',consolas,'Courier New',monospace\"><span style=\"font-weight: bold\"> Total params: </span><span style=\"color: #00af00; text-decoration-color: #00af00\">28,994,320</span> (110.60 MB)\n",
              "</pre>\n"
            ],
            "text/plain": [
              "\u001b[1m Total params: \u001b[0m\u001b[38;5;34m28,994,320\u001b[0m (110.60 MB)\n"
            ]
          },
          "metadata": {},
          "output_type": "display_data"
        },
        {
          "data": {
            "text/html": [
              "<pre style=\"white-space:pre;overflow-x:auto;line-height:normal;font-family:Menlo,'DejaVu Sans Mono',consolas,'Courier New',monospace\"><span style=\"font-weight: bold\"> Trainable params: </span><span style=\"color: #00af00; text-decoration-color: #00af00\">27,359,312</span> (104.37 MB)\n",
              "</pre>\n"
            ],
            "text/plain": [
              "\u001b[1m Trainable params: \u001b[0m\u001b[38;5;34m27,359,312\u001b[0m (104.37 MB)\n"
            ]
          },
          "metadata": {},
          "output_type": "display_data"
        },
        {
          "data": {
            "text/html": [
              "<pre style=\"white-space:pre;overflow-x:auto;line-height:normal;font-family:Menlo,'DejaVu Sans Mono',consolas,'Courier New',monospace\"><span style=\"font-weight: bold\"> Non-trainable params: </span><span style=\"color: #00af00; text-decoration-color: #00af00\">1,635,008</span> (6.24 MB)\n",
              "</pre>\n"
            ],
            "text/plain": [
              "\u001b[1m Non-trainable params: \u001b[0m\u001b[38;5;34m1,635,008\u001b[0m (6.24 MB)\n"
            ]
          },
          "metadata": {},
          "output_type": "display_data"
        }
      ],
      "source": [
        "model.summary()"
      ]
    },
    {
      "cell_type": "code",
      "execution_count": null,
      "metadata": {
        "colab": {
          "base_uri": "https://localhost:8080/"
        },
        "id": "_9KPIzTjFR2S",
        "outputId": "ad44bf10-683b-494c-fef9-1a6d0ac4620d"
      },
      "outputs": [
        {
          "name": "stdout",
          "output_type": "stream",
          "text": [
            "Total data: 16 classes for 26 files for validation\n"
          ]
        }
      ],
      "source": [
        "valid = train.get_validation_generator()"
      ]
    },
    {
      "cell_type": "code",
      "execution_count": null,
      "metadata": {
        "id": "MCDULeZ9FYL8"
      },
      "outputs": [],
      "source": [
        "from tensorflow.keras.callbacks import ModelCheckpoint"
      ]
    },
    {
      "cell_type": "code",
      "execution_count": null,
      "metadata": {
        "id": "WjSuG6p9ZEO8"
      },
      "outputs": [],
      "source": [
        "import os\n",
        "os.mkdir(\"/content/checkpoint\")"
      ]
    },
    {
      "cell_type": "code",
      "execution_count": null,
      "metadata": {
        "id": "Y4ksni8sZWkm"
      },
      "outputs": [],
      "source": [
        "checkpoint_filepath = '/content/checkpoint/model.keras'\n",
        "model_checkpoint_callback = tf.keras.callbacks.ModelCheckpoint(\n",
        "    filepath=checkpoint_filepath,\n",
        "    save_weights_only=False,\n",
        "    monitor='accuracy',  # Monitor training accuracy\n",
        "    mode='max',          # Save when accuracy improves\n",
        "    save_best_only=True, # Save only the best model\n",
        "    save_freq=1    # Check after every batch\n",
        ")"
      ]
    },
    {
      "cell_type": "code",
      "execution_count": null,
      "metadata": {
        "colab": {
          "background_save": true
        },
        "id": "IGOJ_MXgFUC1",
        "outputId": "a4280a14-5956-4c0b-99c2-0f664a8df958"
      },
      "outputs": [
        {
          "ename": "NameError",
          "evalue": "name 'model_checkpoint_callback' is not defined",
          "output_type": "error",
          "traceback": [
            "\u001b[0;31m---------------------------------------------------------------------------\u001b[0m",
            "\u001b[0;31mNameError\u001b[0m                                 Traceback (most recent call last)",
            "\u001b[0;32m<ipython-input-14-ecb678c65047>\u001b[0m in \u001b[0;36m<cell line: 5>\u001b[0;34m()\u001b[0m\n\u001b[1;32m      8\u001b[0m     \u001b[0mverbose\u001b[0m\u001b[0;34m=\u001b[0m\u001b[0;36m1\u001b[0m\u001b[0;34m,\u001b[0m\u001b[0;34m\u001b[0m\u001b[0;34m\u001b[0m\u001b[0m\n\u001b[1;32m      9\u001b[0m     \u001b[0mepochs\u001b[0m\u001b[0;34m=\u001b[0m\u001b[0;36m25\u001b[0m\u001b[0;34m,\u001b[0m\u001b[0;34m\u001b[0m\u001b[0;34m\u001b[0m\u001b[0m\n\u001b[0;32m---> 10\u001b[0;31m     callbacks=[model_checkpoint_callback])\n\u001b[0m",
            "\u001b[0;31mNameError\u001b[0m: name 'model_checkpoint_callback' is not defined"
          ]
        }
      ],
      "source": [
        "from tensorflow.keras.models import load_model\n",
        "\n",
        "model = load_model('/content/checkpoint/model.keras')\n",
        "\n",
        "model.fit(\n",
        "    train,\n",
        "    validation_data=valid,\n",
        "    verbose=1,\n",
        "    epochs=25,\n",
        "    callbacks=[model_checkpoint_callback])"
      ]
    },
    {
      "cell_type": "markdown",
      "metadata": {
        "id": "jMFvc01urxG6"
      },
      "source": [
        "## Checking out Model Performance on Unseen Data"
      ]
    },
    {
      "cell_type": "code",
      "execution_count": null,
      "metadata": {
        "id": "Mbx73Sq1aM92"
      },
      "outputs": [],
      "source": [
        "!unzip Tester.zip"
      ]
    },
    {
      "cell_type": "markdown",
      "metadata": {
        "id": "v2bw6TajuyC9"
      },
      "source": []
    },
    {
      "cell_type": "code",
      "execution_count": null,
      "metadata": {
        "colab": {
          "base_uri": "https://localhost:8080/"
        },
        "id": "gk1HSIT6bwsJ",
        "outputId": "d0babae6-20ea-45b5-8b79-3a362b433468"
      },
      "outputs": [
        {
          "name": "stdout",
          "output_type": "stream",
          "text": [
            "/content/Tester/WhatsApp Video 2021-05-01 at 8.17.52 PM (1).mp4\n",
            "/content/Tester/WhatsApp Video 2021-05-01 at 8.17.53 PM.mp4\n",
            "/content/Tester/WhatsApp Video 2021-05-01 at 8.17.51 PM.mp4\n",
            "/content/Tester/WhatsApp Video 2021-05-01 at 8.17.52 PM (2).mp4\n",
            "/content/Tester/WhatsApp Video 2021-05-01 at 8.17.52 PM.mp4\n",
            "/content/Tester/WhatsApp Video 2021-05-01 at 8.17.51 PM (1).mp4\n"
          ]
        }
      ],
      "source": [
        "for i,j,k in os.walk(\"/content/in\"):\n",
        "  for m in k:\n",
        "    print(os.path.join(\"/content/in\",m))"
      ]
    },
    {
      "cell_type": "code",
      "execution_count": null,
      "metadata": {
        "id": "6tXcNFOTd3P3"
      },
      "outputs": [],
      "source": [
        "for i,j,k in os.walk(\"/content/in\"):\n",
        "  for m in k:\n",
        "    pather=os.path.join(\"in\",m)\n",
        "    video_array_maker(pather,output_directory=\"out\",output_folder=\"No\",remove_input=False)\n",
        "    print(pather)"
      ]
    },
    {
      "cell_type": "code",
      "execution_count": null,
      "metadata": {
        "colab": {
          "base_uri": "https://localhost:8080/"
        },
        "id": "fykLDbToeFZm",
        "outputId": "e9544a10-2c18-4904-fcdb-9cacf6671693"
      },
      "outputs": [
        {
          "name": "stdout",
          "output_type": "stream",
          "text": [
            "/content/Tester2/thank you 2.mp4\n",
            "/content/Tester2/you.mp4\n",
            "/content/Tester2/nothing.mp4\n",
            "/content/Tester2/you2.mp4\n",
            "/content/Tester2/thank you.mp4\n",
            "/content/Tester2/he.mp4\n"
          ]
        }
      ],
      "source": [
        "arr=[]\n",
        "for i,j,k in os.walk(\"/content/out\"):\n",
        "\n",
        "  for m in k:\n",
        "    pather=os.path.join(\"/content/out\",m)\n",
        "    print(pather)\n",
        "    a=skvideo.io.vread(pather)\n",
        "    arr.append(a)\n",
        "\n",
        "\n",
        "arr=np.array(arr)"
      ]
    },
    {
      "cell_type": "code",
      "execution_count": null,
      "metadata": {
        "colab": {
          "base_uri": "https://localhost:8080/"
        },
        "id": "4jSZjn5tfZT2",
        "outputId": "ea85b097-e3f1-424f-afde-256a349d0945"
      },
      "outputs": [
        {
          "data": {
            "text/plain": [
              "(6, 45, 224, 224, 3)"
            ]
          },
          "execution_count": 86,
          "metadata": {
            "tags": []
          },
          "output_type": "execute_result"
        }
      ],
      "source": [
        "arr.shape"
      ]
    },
    {
      "cell_type": "code",
      "execution_count": null,
      "metadata": {
        "id": "LeTEsHISfclM"
      },
      "outputs": [],
      "source": [
        "prediction=model.predict(arr)"
      ]
    },
    {
      "cell_type": "code",
      "execution_count": null,
      "metadata": {
        "colab": {
          "base_uri": "https://localhost:8080/"
        },
        "id": "b1rfm5G7fqe_",
        "outputId": "4ac7b434-73aa-4dab-c0e9-96a8c441a9a4"
      },
      "outputs": [
        {
          "name": "stdout",
          "output_type": "stream",
          "text": [
            "47. they\n",
            "40. I\n",
            "49. How are you\n",
            "41. you\n",
            "49. How are you\n",
            "50. Alright\n"
          ]
        }
      ],
      "source": [
        "for i in  np.argmax(prediction,axis=1):\n",
        "  print(classes[i])"
      ]
    },
    {
      "cell_type": "code",
      "execution_count": null,
      "metadata": {
        "colab": {
          "base_uri": "https://localhost:8080/"
        },
        "id": "zxq0V1JCfsTZ",
        "outputId": "96698916-14c1-4ee5-e0c2-1e0a23f991d2"
      },
      "outputs": [
        {
          "data": {
            "text/plain": [
              "array([5, 0, 7, 1, 7, 8])"
            ]
          },
          "execution_count": 111,
          "metadata": {
            "tags": []
          },
          "output_type": "execute_result"
        }
      ],
      "source": [
        "np.argmax(prediction,axis=1)"
      ]
    },
    {
      "cell_type": "code",
      "execution_count": null,
      "metadata": {
        "colab": {
          "base_uri": "https://localhost:8080/"
        },
        "id": "YruQuM3VfyvY",
        "outputId": "8f04f2f5-173a-494e-dd1a-7cbaaaa6ce21"
      },
      "outputs": [
        {
          "data": {
            "text/plain": [
              "(6, 16)"
            ]
          },
          "execution_count": 70,
          "metadata": {
            "tags": []
          },
          "output_type": "execute_result"
        }
      ],
      "source": [
        "prediction.shape"
      ]
    },
    {
      "cell_type": "code",
      "execution_count": null,
      "metadata": {
        "colab": {
          "base_uri": "https://localhost:8080/"
        },
        "id": "X7yG3Hvif-jD",
        "outputId": "9dc8bd87-f45b-4a79-eb9d-db9f31a3a826"
      },
      "outputs": [
        {
          "data": {
            "text/plain": [
              "array([0.0000000e+00, 1.0000000e+00, 0.0000000e+00, 0.0000000e+00,\n",
              "       0.0000000e+00, 0.0000000e+00, 0.0000000e+00, 0.0000000e+00,\n",
              "       0.0000000e+00, 0.0000000e+00, 0.0000000e+00, 0.0000000e+00,\n",
              "       0.0000000e+00, 0.0000000e+00, 0.0000000e+00, 1.0086898e-14],\n",
              "      dtype=float32)"
            ]
          },
          "execution_count": 76,
          "metadata": {
            "tags": []
          },
          "output_type": "execute_result"
        }
      ],
      "source": [
        "prediction[5]"
      ]
    },
    {
      "cell_type": "code",
      "execution_count": null,
      "metadata": {
        "id": "TP8GZIb7tFoM"
      },
      "outputs": [],
      "source": []
    }
  ],
  "metadata": {
    "accelerator": "GPU",
    "colab": {
      "machine_shape": "hm",
      "provenance": []
    },
    "kernelspec": {
      "display_name": "Python 3",
      "name": "python3"
    },
    "language_info": {
      "name": "python"
    }
  },
  "nbformat": 4,
  "nbformat_minor": 0
}